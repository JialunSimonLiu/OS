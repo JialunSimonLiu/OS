{
 "cells": [
  {
   "cell_type": "code",
   "execution_count": 1,
   "metadata": {},
   "outputs": [],
   "source": [
    "%matplotlib inline\n",
    "import numpy as np\n",
    "import matplotlib.pyplot as plt\n",
    "import scipy\n",
    "from scipy import integrate"
   ]
  },
  {
   "cell_type": "code",
   "execution_count": 2,
   "metadata": {},
   "outputs": [],
   "source": [
    "def BC_PE(r,Z,gamma,delta0,delta1,delta2,delta3,List):\n",
    "    \"\"\"A function representing Buckingham-Coulomb potential \n",
    "    which comprises three parts of energy, namely, \n",
    "    Born-Mayer(BM) potential; polarization and coulomb potential.\n",
    "    r is the radius\n",
    "    Z is the number of electrons excluding the outer shell electron\n",
    "    gamma and delta are constants in BM potential\"\"\"\n",
    "    \n",
    "    if List==\"H_list\":\n",
    "        PE_total=-1/r\n",
    "        return PE_total\n",
    "    else:\n",
    "        # Born-Mayer potential\n",
    "        BM_PE=-Z*(1/r+delta0+delta1*r+delta2*r*r+delta3*r*r*r)*np.exp(-gamma*r)\n",
    "        \n",
    "        # polarization\n",
    "        beta_r=4.790960043258*r \n",
    "        # the product of beta and r\n",
    "        chi=1-(1+beta_r+beta_r*beta_r/2)*np.exp(-beta_r) \n",
    "        # cut off function \"chi\"\n",
    "        polarization=-0.9448*(chi)**2/(2*r**4)\n",
    "    \n",
    "        # the coulomb potential \n",
    "        coulomb_PE=-1/r\n",
    "    \n",
    "        PE_total=BM_PE+polarization+coulomb_PE\n",
    "        return PE_total"
   ]
  },
  {
   "cell_type": "markdown",
   "metadata": {},
   "source": [
    "# One electron atom"
   ]
  },
  {
   "cell_type": "code",
   "execution_count": 3,
   "metadata": {},
   "outputs": [],
   "source": [
    "# components of the list: Z,gamma,delta0,delta1,delta2,delta3\n",
    "H_list=[0,0,0,0,0,0]\n",
    "Na_list=[10,3.032459521675,-0.1648757105954,0.5254039623026,0.03225926765253,0.05746004991888]"
   ]
  },
  {
   "cell_type": "code",
   "execution_count": 4,
   "metadata": {},
   "outputs": [],
   "source": [
    "def effective_PE(r,n,l,QD,List):\n",
    "    \"\"\"This function is the effective_potential part of the differential equation \n",
    "    which can be solved to obtain the radial wave equation for a hydrogen atom \n",
    "    r is the radius\n",
    "    n is the principle quantum number\n",
    "    l is the orbital angular momentum quantum number\n",
    "    QD is the quantum defect\n",
    "    List contains information about the atom,\n",
    "    terms in the \"List\" corresponding to Z,gamma,delta0,delta1,delta2,delta3\"\"\"\n",
    "    \n",
    "    if r==0: \n",
    "        return 0\n",
    "    # when radius is 0, the probability wavefunction is 0.\n",
    "    else: \n",
    "        centrifugal_PE=-l*(l+1)/(r*r) \n",
    "        # potential energy due to the centrifugal force\n",
    "        orbital_energy=-1/((n-QD)*(n-QD))\n",
    "        #energy of the energy level\n",
    "        BC_potential=BC_PE(r,List[0],List[1],List[2],List[3],List[4],List[5],List) \n",
    "        #BC potential \n",
    "        return centrifugal_PE-2*BC_potential+orbital_energy\n",
    "\n",
    "        "
   ]
  },
  {
   "cell_type": "code",
   "execution_count": 5,
   "metadata": {},
   "outputs": [],
   "source": [
    "def SBS_method(fun,N,h,n,l,QD,List):\n",
    "    \"\"\"Step by step method can find the result of second order differential equation\n",
    "    fun is the potential function of an atom\n",
    "    N is the total number of the points\n",
    "    h is the interval between two neibouring points\n",
    "    n is the principle quantum number\n",
    "    l is the orbital angular momentum quantum number\n",
    "    QD is the quantum defect\"\"\"\n",
    "    TOTAL_X= N*h #the furtherest distance between the electron and the nuclear\n",
    "    x = np.linspace(0,TOTAL_X,N+1) # each radial point on the x direction\n",
    "    retval = np.zeros((N+1)) \n",
    "    eff_PE= np.zeros((N+1))\n",
    "    retval[0] = 0 # boundary condition: when r=0, the probability of the electron is 0.\n",
    "    retval[1] = 0.1 # boundary condition\n",
    "    r=0 # start with radius is equal to 0\n",
    "    for i in range(1,N):\n",
    "        r+= h\n",
    "        eff_PE[i]=fun(r,n,l,QD,List) # find the potential part of the radial wavefunction\n",
    "    for j in range(1,N):\n",
    "        retval[j+1]=((2-10*h*h*eff_PE[j]/12)*retval[j]- (1+h*h*eff_PE[j-1]/12)*retval[j-1])/( 1+h*h*eff_PE[j+1]/12)\n",
    "    return x,retval"
   ]
  },
  {
   "cell_type": "code",
   "execution_count": 6,
   "metadata": {},
   "outputs": [],
   "source": [
    "def REV_SBS_method(fun,N,h,n,l,QD,List):\n",
    "    \"\"\"Step by step method can find the result of second order differential equation\n",
    "    fun is the potential function of an atom\n",
    "    N is the total number of the points\n",
    "    h is the interval between two neibouring points\n",
    "    n is the principle quantum number\n",
    "    l is the orbital angular momentum quantum number\n",
    "    QD is the quantum defect\n",
    "    R is a large value where the wavefunction terminates\"\"\"\n",
    "    TOTAL_X= N*h #the furtherest distance between the electron and the nuclear\n",
    "    x = np.linspace(TOTAL_X,0,N+1) # each radial point on the x direction\n",
    "    retval = np.zeros((N+1)) \n",
    "    eff_PE = np.zeros((N+1))\n",
    "    retval[0] = 0 # boundary condition: when r=0, the probability of the electron is 0.\n",
    "    retval[1] = 0.1 # boundary condition\n",
    "    r=TOTAL_X # start with radius is equal to R\n",
    "    for i in range(1,N):\n",
    "        r-= h\n",
    "        eff_PE[i]=fun(r,n,l,QD,List) # find the potential part of the radial wavefunction\n",
    "    for j in range(1,N):\n",
    "        retval[j+1]=((2-10*h*h*eff_PE[j]/12)*retval[j]- (1+h*h*eff_PE[j-1]/12)*retval[j-1])/( 1+h*h*eff_PE[j+1]/12)\n",
    "    return x,retval"
   ]
  },
  {
   "cell_type": "code",
   "execution_count": 7,
   "metadata": {},
   "outputs": [],
   "source": [
    "def plot(x,y,title,n,l):\n",
    "    \"\"\"Plot the wavefunction\"\"\"\n",
    "    plt.plot(x,y, label=\"P{0:.0f},{1:.0f}\" .format(n, l))\n",
    "    # the plot that contains a label which has two variables.\n",
    "    #they are n principal quantum number, l orbital angular momentum number\n",
    "    plt.xlabel('radius r/a0')\n",
    "    plt.ylabel('wavefunction Pnl')\n",
    "    plt.title(title)\n",
    "    plt.grid()"
   ]
  },
  {
   "cell_type": "code",
   "execution_count": 8,
   "metadata": {},
   "outputs": [],
   "source": [
    "def NM_radial_wavefunction(fun,N,h,n,l,QD,List,show_plot):\n",
    "    \"\"\"The normallised radial wavefunction of atoms and plot the graph\n",
    "    fun is the potential function of an atom\n",
    "    N is the total number of points\n",
    "    h is the interval between two neibouring points\n",
    "    n is the principal quantum number\n",
    "    l is the orbital angular momentum quantum number\n",
    "    QD is the quantum defect\n",
    "    R is a large value where the wavefunction terminates \"\"\"\n",
    "    #apply boundary condition to wavefunction by using step by step method \n",
    "    wave=SBS_method(fun,N,h,n,l,QD,List)\n",
    "    wave2=REV_SBS_method(fun,N,h,n,l,QD,List) #reversed step by step method\n",
    "    \n",
    "    #normallised first derivative of both functions\n",
    "    diff_wave = (np.roll(wave[1],-1) - np.roll(wave[1],1))/(2*h) # first derivative of the wave function\n",
    "    NM_diff_wave=diff_wave[1:N]/wave[1][1:N] # Normallise the first derivative of the wave function to get rid of the constant\n",
    "\n",
    "    REV_wave2=(wave2[1][::-1]) # reversed wave function 2\n",
    "    REV_diff_wave2 = (np.roll(REV_wave2,-1) - np.roll(REV_wave2,1))/(2*h)# reversed first derivative of the wave function 2\n",
    "    REV_NM_diff_wave2=REV_diff_wave2[1:N]/REV_wave2[1:N] # normallised and reversed first derivative of the wave function\n",
    "    \n",
    "    #Find the continuity for the first derivative of both wavefunction\n",
    "    continuity=NM_diff_wave-REV_NM_diff_wave2 # the first term has division by 0, so it is excluded in calculation\n",
    "    \n",
    "    # the minimum value after subtraction is the first order derivative continuous point\n",
    "    mini_value=np.min(abs(continuity))\n",
    "    intersection=np.where(abs(continuity)==mini_value)\n",
    "\n",
    "    if len(intersection)>0 and len(intersection[0])>0:\n",
    "        POI=intersection[0][0] #point of intersection\n",
    "\n",
    "    wave3=np.concatenate([wave[1][0:POI+1],REV_wave2[POI+1:N+1]])# two parts are continuous in shape\n",
    "    # we have found that the intersection point is when N=19+1=20, because the first term of the 'continuity' array was removed.\n",
    "    \n",
    "    #make two parts of the wavefunctions continuous\n",
    "    constant1=wave[1][POI]/REV_wave2[POI]\n",
    "    REV_wave2_constant1=REV_wave2*constant1\n",
    "    UN_Pnl=np.concatenate([wave[1][0:POI+1],REV_wave2_constant1[POI+1:N+1]])# unnormallised wavefunction\n",
    "    \n",
    "    #normallising the wavefunction after combining two continuous parts\n",
    "    UN_Pnl_square=UN_Pnl*UN_Pnl\n",
    "    constant2_squared=integrate.simps(UN_Pnl_square,wave[0])\n",
    "    constant2=np.sqrt(constant2_squared)\n",
    "    Pnl=UN_Pnl/constant2\n",
    "    if show_plot==True:\n",
    "        plot(wave[0],Pnl,'Normalised radial wavefunction of a sodium atom',n,l)\n",
    "        return Pnl\n",
    "    if show_plot==False:\n",
    "        return Pnl"
   ]
  },
  {
   "cell_type": "code",
   "execution_count": 9,
   "metadata": {},
   "outputs": [
    {
     "data": {
      "image/png": "[encoded data removed]",
      "text/plain": [
       "<matplotlib.figure.Figure at 0x1d84f1bd0f0>"
      ]
     },
     "metadata": {
      "needs_background": "light"
     },
     "output_type": "display_data"
    }
   ],
   "source": [
    "r=NM_radial_wavefunction(effective_PE,400,0.1,3,0,1.4,Na_list,True)"
   ]
  },
  {
   "cell_type": "code",
   "execution_count": 10,
   "metadata": {},
   "outputs": [
    {
     "data": {
      "text/plain": [
       "<matplotlib.legend.Legend at 0x1d84f8c8240>"
      ]
     },
     "execution_count": 10,
     "metadata": {},
     "output_type": "execute_result"
    },
    {
     "data": {
      "image/png": "[encoded data removed]",
      "text/plain": [
       "<matplotlib.figure.Figure at 0x1d84f8c0f60>"
      ]
     },
     "metadata": {
      "needs_background": "light"
     },
     "output_type": "display_data"
    }
   ],
   "source": [
    "QD_Na=1.2,0.883,0.01\n",
    "# quantum defect of a sodium atom in 3s,p,d orbitals\n",
    "for i in range (0,3):\n",
    "    NM_radial_wavefunction(effective_PE,500,0.1,3,i,QD_Na[i],Na_list,True)\n",
    "plt.legend()"
   ]
  },
  {
   "cell_type": "code",
   "execution_count": 11,
   "metadata": {},
   "outputs": [
    {
     "data": {
      "image/png": "[encoded data removed]",
      "text/plain": [
       "<matplotlib.figure.Figure at 0x1d84f191ac8>"
      ]
     },
     "metadata": {
      "needs_background": "light"
     },
     "output_type": "display_data"
    }
   ],
   "source": [
    "a=NM_radial_wavefunction(effective_PE,2000,0.1,6,1,0.8,Na_list,True)\n"
   ]
  },
  {
   "cell_type": "markdown",
   "metadata": {
    "collapsed": true
   },
   "source": [
    "# Unperturbed oscillator strength"
   ]
  },
  {
   "cell_type": "code",
   "execution_count": 12,
   "metadata": {},
   "outputs": [],
   "source": [
    "def numerical_integral(fun,N,h,n,l,QD,n_prime,l_prime,QD_prime,List,show_plot):\n",
    "    \"\"\"This is a function which integrate \"PrP_prime\" from origin to \n",
    "    infinity to obtain a numerial result, where \"PrP\" stands for the \n",
    "    product of two radial wavefunctions and position operator r  \n",
    "    fun is the potential function of an atom\n",
    "    N is the total number of the points\n",
    "    h is the interval between two neibouring points\n",
    "    n is the principle quantum number in the initial level\n",
    "    l is the orbital angular momentum quantum number in the initial level\n",
    "    QD is the quantum defect in the initial level\n",
    "    n_prime is the principle quantum number in the transited level\n",
    "    l_prime is the orbital angular momentum quantum number in the transited level\n",
    "    QD_prime is the quantum defect in the transited level\n",
    "    R is a large value where the wavefunction terminates \"\"\"\n",
    "    wave=SBS_method(fun,N,h,n,l,QD,List) \n",
    "    #wave[0] provides the x axis for the later integration use\n",
    "    \n",
    "    RW=NM_radial_wavefunction(fun,N,h,n,l,QD,List,show_plot)\n",
    "    # the radial wavefunction of the electron in the initial level\n",
    "    RW_prime=NM_radial_wavefunction(fun,N,h,n_prime,l_prime,QD_prime,List,show_plot)  \n",
    "    # the radial wavefunction of the electron in the transited level\n",
    "    matrix_element=RW*wave[0]*RW_prime \n",
    "    # the product of two radial wavefunctions and r\n",
    "    integral=integrate.simps(matrix_element,wave[0]) \n",
    "    # the integration from origin to positive infinity of PrP_prime\n",
    "\n",
    "    return integral"
   ]
  },
  {
   "cell_type": "code",
   "execution_count": 13,
   "metadata": {},
   "outputs": [],
   "source": [
    "def Energy_diff(n,QD,n_prime,QD_prime):\n",
    "    \"\"\"This function finds the energy shift between two levels \n",
    "    where an electron has transfered \"\"\"\n",
    "    Energy=-1/(2*(n-QD)*(n-QD)) \n",
    "    # energy of the electron at the initial level \n",
    "    Energy_prime=-1/(2*(n_prime-QD_prime)*(n_prime-QD_prime)) \n",
    "    # energy of the electron at the transited level \n",
    "    return Energy_prime-Energy\n",
    "def Cl_prime(l,l_prime):\n",
    "    \"\"\"A constant which has orbital angular momentum quantum number dependency \n",
    "    in the function \"Oscillator_strength\" \"\"\"\n",
    "    max_val=np.max([l,l_prime]) \n",
    "    # find the larger value between the orbital angular momentum quantum numbers \n",
    "    # which are before and after transition\n",
    "    return max_val/(2*l+1)"
   ]
  },
  {
   "cell_type": "code",
   "execution_count": 14,
   "metadata": {},
   "outputs": [],
   "source": [
    "def oscillator_strength(fun,N,h,n,l,QD,n_prime,l_prime,QD_prime,List):\n",
    "    \"\"\"This is a funciton which find the oscillator strength of a hydrogen atom \n",
    "    while the strong transition occurs\n",
    "    N is the total number of points\n",
    "    h is the interval between two neighbouring points\n",
    "    n is the principal quantum number in the initial level\n",
    "    l is the orbital angular momentum quantum number in the initial level\n",
    "    QD is the quantum defect in the initial level\n",
    "    n_prime is the principal quantum number in the transited level\n",
    "    l_prime is the orbital angular momentum quantum number in the transited level\n",
    "    QD_prime is the quantum defect in the transited level\n",
    "    R is a large value where the wave function terminates \"\"\"\n",
    "    integral_squared=numerical_integral(fun,N,h,n,l,QD,n_prime,l_prime,QD_prime,List,False)**2\n",
    "    strength=(2/3)*Energy_diff(n,QD,n_prime,QD_prime)*Cl_prime(l,l_prime)*integral_squared \n",
    "    # Oscillator strength is a measure of frequency\n",
    "    return strength"
   ]
  },
  {
   "cell_type": "code",
   "execution_count": 15,
   "metadata": {},
   "outputs": [
    {
     "name": "stdout",
     "output_type": "stream",
     "text": [
      "0.0290529156319\n"
     ]
    }
   ],
   "source": [
    "os_H=oscillator_strength(effective_PE,5000,0.1,1,0,0,3,1,-1,\"H_list\")\n",
    "print(os_H)"
   ]
  },
  {
   "cell_type": "code",
   "execution_count": 16,
   "metadata": {},
   "outputs": [
    {
     "name": "stdout",
     "output_type": "stream",
     "text": [
      "[  1.10341973e+00   8.17010479e-03   6.35043609e-04   9.39870416e-05]\n"
     ]
    }
   ],
   "source": [
    "QD_Na1=[0.883,0.867,0.862,0.859]\n",
    "os_Na1=np.zeros((4)) \n",
    "for i in range (0,4):\n",
    "    os_Na1[i]=oscillator_strength(effective_PE,2000,0.1,3,0,1.373,i+3,1,QD_Na1[i],Na_list)\n",
    "print(os_Na1)"
   ]
  },
  {
   "cell_type": "code",
   "execution_count": 17,
   "metadata": {},
   "outputs": [
    {
     "data": {
      "text/plain": [
       "0.091099649769362273"
      ]
     },
     "execution_count": 17,
     "metadata": {},
     "output_type": "execute_result"
    }
   ],
   "source": [
    "oscillator_strength(effective_PE,2000,0.1,3,1,0.886,4,0,1.4,Na_list)"
   ]
  },
  {
   "cell_type": "markdown",
   "metadata": {},
   "source": [
    "# oscillator strength in a weak magnetic field"
   ]
  },
  {
   "cell_type": "code",
   "execution_count": 18,
   "metadata": {},
   "outputs": [],
   "source": [
    "def CG_coefficient_j(j,mj,j_prime,mj_prime,mu):\n",
    "    \"\"\"Clebsch-Gordan coefficients for j quantum numbers\"\"\"\n",
    "    if j_prime==j:\n",
    "        if mu==0:\n",
    "            sqrt_term00=np.sqrt((mj**2)/((j+1)*j))\n",
    "            return sqrt_term00\n",
    "        elif mu==-1:\n",
    "            M1=mj+1\n",
    "            sqrt_term01=-np.sqrt((j+M1)*(j-M1+1)/(2*j*(2*j+1)))\n",
    "            return sqrt_term01        \n",
    "        else:\n",
    "            M2=mj-1\n",
    "            sqrt_term02= np.sqrt((j-M2)*(j+M2+1)/(2*j*(j+1)))\n",
    "            return sqrt_term02\n",
    "    elif j_prime==j+1:\n",
    "        if mu==0:\n",
    "            sqrt_term10= np.sqrt((j-mj+1)*(j+mj+1)/((2*j+1)*(j+1)))\n",
    "            return sqrt_term10\n",
    "        elif mu==-1:\n",
    "            M3=mj+1\n",
    "            sqrt_term11= np.sqrt((j+M3)*(j+M3+1)/((2*j+1)*(2*j+2)))\n",
    "            return sqrt_term11\n",
    "        else:\n",
    "            M4=mj-1\n",
    "            sqrt_term12= np.sqrt((j-M4)*(j-M4+1)/((2*j+1)*(2*j+2)))\n",
    "            return sqrt_term12\n",
    "    else:\n",
    "        if mu==0:\n",
    "            sqrt_term20=-np.sqrt((j-mj)*(j+mj)/((2*j+1)*(j)))\n",
    "            return sqrt_term20\n",
    "        elif mu==-1:\n",
    "            M5=mj+1\n",
    "            sqrt_term21= np.sqrt((j-M5)*(j-M5+1)/(2*j*(2*j+1)))\n",
    "            return sqrt_term21        \n",
    "        else:\n",
    "            M6=mj-1\n",
    "            sqrt_term22= np.sqrt((j+M6+1)*(j+M6)/(2*j*(2*j+1)))\n",
    "            return sqrt_term22\n",
    "    \n",
    "    "
   ]
  },
  {
   "cell_type": "code",
   "execution_count": 19,
   "metadata": {},
   "outputs": [],
   "source": [
    "def os_magnetic(fun,N,h,List,data,B):\n",
    "    \"\"\"The second version of oscillator strength in a weak magnetic field\n",
    "    in terms of transition dipole moment.\n",
    "    The spin part of the wave function is assumed to be negligible, thus L=J.\n",
    "    data=n,l,ml,QD,n_prime,l_prime,ml_prime,QD_prime\"\"\"\n",
    "    \n",
    "    #total angular momentum j=l+s=l+0\n",
    "    j=data[1]\n",
    "    #j=l+0\n",
    "    j_prime=data[5]\n",
    "    #j_prime=l_prime+0\n",
    "    mj=data[2]\n",
    "    #mj=ml+0\n",
    "    mj_prime=data[-2]\n",
    "    #mj_prime=ml_prime+0\n",
    "    mu=mj-mj_prime\n",
    "    # difference between mj' and mj\n",
    "    \n",
    "    cg_squared=(CG_coefficient_j(j,mj,j_prime,mj_prime,mu))**2\n",
    "    #vc_coefficient(l,m,l_prime,m_prime,mu)\n",
    "    vc_squared=cg_squared/(2*data[-3]+1)\n",
    "    \n",
    "    integral_squared=numerical_integral(fun,N,h,data[0],data[1],data[3],data[4],data[5],data[7],List,False)**2\n",
    "    # numerical_integral(fun,N,h,n,l,QD,n_prime,l_prime,QD_prime,False)\n",
    "    \n",
    "    mu_e=(9.27400949/4.35974417)*10**(-6)\n",
    "    energy_coefficient=Energy_diff(data[0],data[3],data[4],data[-1])+mu_e*B*mu\n",
    "    \n",
    "    max_val=(2*data[1]+1)*Cl_prime(data[1],data[5])\n",
    "    perturbed_os=(2/3)*max_val*energy_coefficient*integral_squared*vc_squared \n",
    "    # Cl_prime(l,l_prime)=Cl_prime(data[1],data[5])\n",
    "    # Oscillator strength is a measure of frequency\n",
    "    return perturbed_os"
   ]
  },
  {
   "cell_type": "code",
   "execution_count": 20,
   "metadata": {},
   "outputs": [
    {
     "data": {
      "text/plain": [
       "-0.026423860414578761"
      ]
     },
     "execution_count": 20,
     "metadata": {},
     "output_type": "execute_result"
    }
   ],
   "source": [
    "transition_data_mag1=3,1,1,0,1,0,0,0\n",
    "os_magnetic(effective_PE,2000,0.1,\"H_list\",transition_data_mag1,1)"
   ]
  },
  {
   "cell_type": "code",
   "execution_count": 21,
   "metadata": {},
   "outputs": [
    {
     "name": "stdout",
     "output_type": "stream",
     "text": [
      "[[2, 1, -1, 0, 1, 0, 0, 0], [3, 1, -1, 0, 1, 0, 0, 0], [4, 1, -1, 0, 1, 0, 0, 0], [5, 1, -1, 0, 1, 0, 0, 0], [6, 1, -1, 0, 1, 0, 0, 0], [7, 1, -1, 0, 1, 0, 0, 0], [8, 1, -1, 0, 1, 0, 0, 0]]\n"
     ]
    }
   ],
   "source": [
    "transition_data_mag=[]\n",
    "n=2\n",
    "while n<9:\n",
    "    transition_data_mag.append([n,1,-1,0,1,0,0,0])\n",
    "    n=n+1\n",
    "print(transition_data_mag)\n",
    "        #osm[i-2,j]=os_magnetic(effective_PE,2000,0.1,\"H_list\",transition_data_mag[i,j],1)"
   ]
  },
  {
   "cell_type": "code",
   "execution_count": 22,
   "metadata": {},
   "outputs": [
    {
     "name": "stdout",
     "output_type": "stream",
     "text": [
      "[-0.13904224 -0.02642411 -0.00968435 -0.004656   -0.00260535 -0.00160805\n",
      " -0.00106374]\n"
     ]
    }
   ],
   "source": [
    "#transition_data_mag=n,l,m,QD,n_prime,l_prime,m_prime,QD_prime\n",
    "#transition_data_mag=[[5,1,1,0,3,0,0,0],[4,1,1,0,3,0,0,0]]\n",
    "b=np.zeros((7))\n",
    "for i in range (0,7):\n",
    "    #a=os_magnetic_1(effective_PE,2000,0.1,transition_data_mag,1)\n",
    "    b[i]=os_magnetic(effective_PE,2000,0.1,\"H_list\",transition_data_mag[i],1)\n",
    "print(b)"
   ]
  },
  {
   "cell_type": "code",
   "execution_count": 23,
   "metadata": {},
   "outputs": [
    {
     "name": "stdout",
     "output_type": "stream",
     "text": [
      "-0.00464216270528\n"
     ]
    }
   ],
   "source": [
    "#transition_data_mag=n,l,m,QD,n_prime,l_prime,m_prime,QD_prime\n",
    "transition_data_mag2=4,1,1,0.867,3,0,0,1.2    \n",
    "#a=os_magnetic_1(effective_PE,2000,0.1,transition_data_mag,1)\n",
    "b=os_magnetic(effective_PE,2000,0.1,Na_list,transition_data_mag2,1)\n",
    "print(b)"
   ]
  },
  {
   "cell_type": "markdown",
   "metadata": {},
   "source": [
    "# oscillator strength in Spin-orbit coupling"
   ]
  },
  {
   "cell_type": "code",
   "execution_count": 24,
   "metadata": {},
   "outputs": [],
   "source": [
    "def energy_spin_orbit(fun,N,h,List,data):\n",
    "    \"\"\"Spin-orbit energy for hydrogen atom only\n",
    "    data=n,l,j,mj,QD,n_prime,l_prime,j_prime,m_j_prime,QD_prime\"\"\"\n",
    "    \n",
    "    TOTAL_X= N*h #the furtherest distance between the electron and the nuclear\n",
    "    x = np.linspace(0,TOTAL_X,N+1) # each radial point on the x direction\n",
    "    v= np.zeros((N+1))\n",
    "    r=0 # start with radius is equal to 0\n",
    "    for i in range(1,N):\n",
    "        r+= h\n",
    "        v[i]=1/r # find the potential part of the radial wavefunction\n",
    "\n",
    "    derivative_v=(np.roll(v,-1) - np.roll(v,1))/(2*h)\n",
    "    \n",
    "    radial_wf_initial=NM_radial_wavefunction(fun,N,h,data[0],data[1],data[4],List,False)\n",
    "    radial_wf_final=NM_radial_wavefunction(fun,N,h,data[-5],data[-4],data[-1],List,False)\n",
    "    #NM_radial_wavefunction(fun,N,h,n,l,QD,False)\n",
    "    \n",
    "    initial_integrand=v*derivative_v*(radial_wf_initial**2)\n",
    "    final_integrand=v*derivative_v*(radial_wf_final**2)\n",
    "    \n",
    "    integral_initial=integrate.simps(initial_integrand,x)\n",
    "    integral_final=integrate.simps(final_integrand,x)\n",
    "    \n",
    "    constant=(1/4)*((1/137)**2)\n",
    "    quantum_num=data[2]*(data[2]+1)-data[1]*(data[1]+1)-3/4\n",
    "    quantum_num_prime=data[-3]*(data[-3]+1)-data[-4]*(data[-4]+1)-3/4 \n",
    "    \n",
    "    if data[1] ==0:\n",
    "        energy=0\n",
    "        energy_prime=constant*quantum_num_prime*integral_final\n",
    "        return energy_prime-energy\n",
    "    \n",
    "    if data[6]==0:\n",
    "        energy_prime=0\n",
    "        energy=constant*quantum_num*integral_initial\n",
    "        return energy_prime-energy\n",
    "    else:\n",
    "        energy=constant*quantum_num*integral_initial\n",
    "        energy_prime=constant*quantum_num_prime*integral_final\n",
    "        return energy_prime-energy"
   ]
  },
  {
   "cell_type": "code",
   "execution_count": 25,
   "metadata": {},
   "outputs": [],
   "source": [
    "def six_j_symbol(l,l_prime,j,j_prime):\n",
    "    s=1/2\n",
    "    if l_prime==l+1:\n",
    "        if j_prime==j:\n",
    "            k=s+j+l+1\n",
    "            numerator1=2*(k+1)*(k-2*s)*(k-2*j)*(k-2*(l+1)+1)\n",
    "            denominator1=2*j*(2*j+1)*(2*j+2)*(2*(l+1)-1)*2*(l+1)*(2*(l+1)+1)\n",
    "            return ((-1)**(k+1))*(numerator1/denominator1)**0.5\n",
    "        elif j_prime==j+1:\n",
    "            k=s+j+l+2\n",
    "            numerator2=k*(k+1)*(k-2*s-1)*(k-2*s)\n",
    "            denominator2=(2*(j+1)-1)*2*(j+1)*(2*(j+1)+1)*(2*(l+1)-1)*2*(l+1)*(2*(l+1)+1)\n",
    "            return ((-1)**(k+1))*(numerator2/denominator2)**0.5\n",
    "        else:\n",
    "            k=s+j+l\n",
    "            numerator3=(k-2*(j-1)-1)*(k-2*(j-1))*(k-2*(l+1)+1)*(k-2*(l+1)+2)\n",
    "            denominator3=(2*(j-1)+1)*(2*(j-1)+2)*(2*(j-1)+3)*(2*(l+1)-1)*2*(l+1)*(2*(l+1)+1)\n",
    "            return ((-1)**(k+1))*(numerator3/denominator3)**0.5\n",
    "    else:\n",
    "        if j_prime==j:\n",
    "            k=s+j+l\n",
    "            numerator4=2*(k+1)*(k-2*s)*(k-2*j)*(k-2*l+1)\n",
    "            denominator4=2*j*(2*j+1)*(2*j+2)*(2*l-1)*2*l*(2*l+1)\n",
    "            return ((-1)**(k+1))*(numerator4/denominator4)**0.5\n",
    "        elif j_prime==j-1:\n",
    "            k=s+j+l\n",
    "            numerator5=k*(k+1)*(k-2*s-1)*(k-2*s)\n",
    "            denominator5=(2*j-1)*2*j*(2*j+1)*(2*l-1)*2*l*(2*l+1)\n",
    "            return ((-1)**(k+1))*(numerator5/denominator5)**0.5\n",
    "        else:\n",
    "            k=s+j+l\n",
    "            numerator6=(k-2*(j-1)-1)*(k-2*(j-1))*(k-2*l+1)*(k-2*l+2)\n",
    "            denominator6=(2*j+1)*(2*j+2)*(2*j+3)*(2*l-1)*2*(l+1)*(2*l+1)\n",
    "            return ((-1)**(k+1))*(numerator6/denominator6)**0.5            "
   ]
  },
  {
   "cell_type": "code",
   "execution_count": 55,
   "metadata": {},
   "outputs": [],
   "source": [
    "def os_spin_orbit(fun,N,h,List,data):\n",
    "    \"\"\"Corrected oscillator strength with the perturbation of \n",
    "    Spin-orbit coupling\n",
    "    data=n,l,j,mj,QD,n_prime,l_prime,j_prime,m_j_prime,QD_prime\"\"\"\n",
    "\n",
    "    mu=data[3]-data[-2]\n",
    "    # difference between mj and mj'\n",
    "    cg=CG_coefficient_j(data[2],data[3],data[-3],data[-2],mu)\n",
    "    #CG_coefficient_j(j,mj,j_prime,mj_prime,mu)\n",
    "    vc_squared=cg**2/(2*data[-3]+1)\n",
    "    # j' dependent\n",
    "    vc=vc_squared**0.5\n",
    "    six_j=six_j_symbol(data[1],data[6],data[2],data[-3])\n",
    "    #six_j_symbol(l,l_prime,j,j_prime)\n",
    "    S=((-1)**(data[3]+data[-3]+data[-4]))*six_j*(vc)\n",
    "    #S=((-1)**(mj+j_prime+l_prime))*vc*six_j\n",
    "    \n",
    "    \n",
    "    integral_squared=numerical_integral(fun,N,h,data[0],data[1],data[4],data[5],data[6],data[-1],List,False)**2\n",
    "    # numerical_integral(fun,N,h,n,l,QD,n_prime,l_prime,QD_prime,False)\n",
    "   \n",
    "    energy=Energy_diff(data[0],data[4],data[-5],data[-1])+energy_spin_orbit(fun,N,h,List,data)\n",
    "    \n",
    "    max_val=np.max([data[1],data[6]])\n",
    "    #max_val=np.max([l,l_prime])\n",
    "    perturbed_os=(2/3)*energy*integral_squared*vc_squared*max_val*(abs(S)**2)*(2*data[2]+1)*(2*data[-3]+1)\n",
    "    \n",
    "    return perturbed_os"
   ]
  },
  {
   "cell_type": "code",
   "execution_count": 56,
   "metadata": {},
   "outputs": [
    {
     "data": {
      "text/plain": [
       "0.0038622569443237001"
      ]
     },
     "execution_count": 56,
     "metadata": {},
     "output_type": "execute_result"
    }
   ],
   "source": [
    "#transition_data_so=n,l,j,mj,QD,n_prime,l_prime,j_prime,m_j_prime,QD_prime\n",
    "transition_data_so=1,0,0.5,-0.5,0,2,1,1.5,0.5,0\n",
    "os_spin_orbit(effective_PE,2000,0.1,\"H_list\",transition_data_so)"
   ]
  }
 ],
 "metadata": {
  "kernelspec": {
   "display_name": "Python 3",
   "language": "python",
   "name": "python3"
  },
  "language_info": {
   "codemirror_mode": {
    "name": "ipython",
    "version": 3
   },
   "file_extension": ".py",
   "mimetype": "text/x-python",
   "name": "python",
   "nbconvert_exporter": "python",
   "pygments_lexer": "ipython3",
   "version": "3.8.3"
  }
 },
 "nbformat": 4,
 "nbformat_minor": 2
}
