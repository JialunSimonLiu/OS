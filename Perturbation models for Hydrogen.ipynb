{
 "cells": [
  {
   "cell_type": "markdown",
   "metadata": {},
   "source": [
    "# Improved model for unperturbed hydrogen atom"
   ]
  },
  {
   "cell_type": "code",
   "execution_count": 1,
   "metadata": {},
   "outputs": [],
   "source": [
    "%matplotlib inline\n",
    "import numpy as np\n",
    "import matplotlib.pyplot as plt\n",
    "import scipy\n",
    "from scipy import integrate"
   ]
  },
  {
   "cell_type": "code",
   "execution_count": 2,
   "metadata": {},
   "outputs": [],
   "source": [
    "def effective_PE(r,n,l,QD):\n",
    "    \"\"\"This function is the effective_potential part of the differential equation \n",
    "    which can be solved to obtain the radial wave equation for a hydrogen atom \n",
    "    r is the radius\n",
    "    n is the principle quantum number\n",
    "    l is the orbital angular momentum quantum number\n",
    "    QD is the quantum defect\"\"\"\n",
    "    if r==0: # when radius is 0 from the center nuclear, the probability wavefunction for electron is 0.\n",
    "        return 0\n",
    "    else: \n",
    "        centrifugal_PE=-l*(l+1)/(r*r) \n",
    "        #potential energy due to the centrifugal force\n",
    "        coulomb_PE=-1/r \n",
    "        orbital_energy=-1/((n-QD)*(n-QD))\n",
    "        #energy of the energy level\n",
    "        return centrifugal_PE-2*coulomb_PE+orbital_energy"
   ]
  },
  {
   "cell_type": "code",
   "execution_count": 3,
   "metadata": {},
   "outputs": [],
   "source": [
    "def SBS_method(fun,N,h,n,l,QD):\n",
    "    \"\"\"Step by step method can find the result of second order differential equation\n",
    "    fun is the potential function of an atom\n",
    "    N is the total number of the points\n",
    "    h is the interval between two neibouring points\n",
    "    n is the principle quantum number\n",
    "    l is the orbital angular momentum quantum number\n",
    "    QD is the quantum defect\"\"\"\n",
    "    TOTAL_X= N*h #the furtherest distance between the electron and the nuclear\n",
    "    x = np.linspace(0,TOTAL_X,N+1) # each radial point on the x direction\n",
    "    retval = np.zeros((N+1)) \n",
    "    eff_PE= np.zeros((N+1))\n",
    "    retval[0] = 0 # boundary condition: when r=0, the probability of the electron is 0.\n",
    "    retval[1] = 0.1 # boundary condition\n",
    "    r=0 # start with radius is equal to 0\n",
    "    for i in range(1,N):\n",
    "        r+= h\n",
    "        eff_PE[i]=fun(r,n,l,QD) # find the potential part of the radial wavefunction\n",
    "    for j in range(1,N):\n",
    "        retval[j+1]=((2-10*h*h*eff_PE[j]/12)*retval[j]- (1+h*h*eff_PE[j-1]/12)*retval[j-1])/( 1+h*h*eff_PE[j+1]/12)\n",
    "    return x,retval"
   ]
  },
  {
   "cell_type": "code",
   "execution_count": 4,
   "metadata": {},
   "outputs": [],
   "source": [
    "def REV_SBS_method(fun,N,h,n,l,QD):\n",
    "    \"\"\"Step by step method can find the result of second order differential equation\n",
    "    fun is the potential function of an atom\n",
    "    N is the total number of the points\n",
    "    h is the interval between two neibouring points\n",
    "    n is the principle quantum number\n",
    "    l is the orbital angular momentum quantum number\n",
    "    QD is the quantum defect\n",
    "    R is a large value where the wavefunction terminates\"\"\"\n",
    "    TOTAL_X= N*h #the furtherest distance between the electron and the nuclear\n",
    "    x = np.linspace(TOTAL_X,0,N+1) # each radial point on the x direction\n",
    "    retval = np.zeros((N+1)) \n",
    "    eff_PE = np.zeros((N+1))\n",
    "    retval[0] = 0 # boundary condition: when r=0, the probability of the electron is 0.\n",
    "    retval[1] = 0.1 # boundary condition\n",
    "    r=TOTAL_X # start with radius is equal to R\n",
    "    for i in range(1,N):\n",
    "        r-= h\n",
    "        eff_PE[i]=fun(r,n,l,QD) # find the potential part of the radial wavefunction\n",
    "    for j in range(1,N):\n",
    "        retval[j+1]=((2-10*h*h*eff_PE[j]/12)*retval[j]- (1+h*h*eff_PE[j-1]/12)*retval[j-1])/( 1+h*h*eff_PE[j+1]/12)\n",
    "    return x,retval"
   ]
  },
  {
   "cell_type": "code",
   "execution_count": 5,
   "metadata": {},
   "outputs": [],
   "source": [
    "def plot(x,y,title,n,l):\n",
    "    \"\"\"Plot the wavefunction\"\"\"\n",
    "    plt.plot(x,y,label=\"P{0:.0f},{1:.0f}\".format(n,l))\n",
    "    # the plot that contains a label which has two variables.\n",
    "    #they are n principal quantum number, l orbital angular momentum number\n",
    "    plt.xlabel('radius r/a0')\n",
    "    plt.ylabel('wavefunction Pnl')\n",
    "    plt.title(title)\n",
    "    plt.grid()"
   ]
  },
  {
   "cell_type": "code",
   "execution_count": 6,
   "metadata": {},
   "outputs": [],
   "source": [
    "def NM_radial_wavefunction(fun,N,h,n,l,QD,show_plot):\n",
    "    \"\"\"The normallised radial wavefunction of atoms and plot the graph\n",
    "    fun is the potential function of an atom\n",
    "    N is the total number of points\n",
    "    h is the interval between two neibouring points\n",
    "    n is the principal quantum number\n",
    "    l is the orbital angular momentum quantum number\n",
    "    QD is the quantum defect\n",
    "    R is a large value where the wavefunction terminates \"\"\"\n",
    "    #apply boundary condition to wavefunction by using step by step method \n",
    "    wave=SBS_method(fun,N,h,n,l,QD)\n",
    "    wave2=REV_SBS_method(fun,N,h,n,l,QD) #reversed step by step method\n",
    "    \n",
    "    #normallised first derivative of both functions\n",
    "    diff_wave = (np.roll(wave[1],-1) - np.roll(wave[1],1))/(2*h) # first derivative of the wave function\n",
    "    NM_diff_wave=diff_wave[1:N]/wave[1][1:N] # Normallise the first derivative of the wave function to get rid of the constant\n",
    "\n",
    "    REV_wave2=(wave2[1][::-1]) # reversed wave function 2\n",
    "    REV_diff_wave2 = (np.roll(REV_wave2,-1) - np.roll(REV_wave2,1))/(2*h)# reversed first derivative of the wave function 2\n",
    "    REV_NM_diff_wave2=REV_diff_wave2[1:N]/REV_wave2[1:N] # normallised and reversed first derivative of the wave function\n",
    "    \n",
    "    #Find the continuity for the first derivative of both wavefunction\n",
    "    continuity=NM_diff_wave-REV_NM_diff_wave2 # the first term has division by 0, so it is excluded in calculation\n",
    "    \n",
    "    # the minimum value after subtraction is the first order derivative continuous point\n",
    "    mini_value=np.min(abs(continuity))\n",
    "    intersection=np.where(abs(continuity)==mini_value)\n",
    "\n",
    "    if len(intersection)>0 and len(intersection[0])>0:\n",
    "        POI=intersection[0][0] #point of intersection\n",
    "\n",
    "    wave3=np.concatenate([wave[1][0:POI+1],REV_wave2[POI+1:N+1]])# two parts are continuous in shape\n",
    "    # we have found that the intersection point is when N=19+1=20, because the first term of the 'continuity' array was removed.\n",
    "    \n",
    "    #make two parts of the wavefunctions continuous\n",
    "    constant1=wave[1][POI]/REV_wave2[POI]\n",
    "    REV_wave2_constant1=REV_wave2*constant1\n",
    "    UN_Pnl=np.concatenate([wave[1][0:POI+1],REV_wave2_constant1[POI+1:N+1]])# unnormallised wavefunction\n",
    "    \n",
    "    #normallising the wavefunction after combining two continuous parts\n",
    "    UN_Pnl_square=UN_Pnl*UN_Pnl\n",
    "    constant2_squared=integrate.simps(UN_Pnl_square,wave[0])\n",
    "    constant2=np.sqrt(constant2_squared)\n",
    "    Pnl=UN_Pnl/constant2 \n",
    "    #final numerical solution of the normallised radial wave function\n",
    "    if show_plot==True:\n",
    "        plot(wave[0],Pnl,'Normalised radial wavefunction in the 1s orbital of a sodium atom',n,l)\n",
    "        return Pnl\n",
    "    if show_plot==False:\n",
    "        return Pnl"
   ]
  },
  {
   "cell_type": "code",
   "execution_count": 7,
   "metadata": {},
   "outputs": [
    {
     "data": {
      "text/plain": [
       "<matplotlib.legend.Legend at 0x29dd6b1c9b0>"
      ]
     },
     "execution_count": 7,
     "metadata": {},
     "output_type": "execute_result"
    },
    {
     "data": {
      "image/png": "[encoded data removed]",
      "text/plain": [
       "<matplotlib.figure.Figure at 0x29dd9e67f98>"
      ]
     },
     "metadata": {
      "needs_background": "light"
     },
     "output_type": "display_data"
    }
   ],
   "source": [
    "Pnl1= NM_radial_wavefunction(effective_PE,600,0.1,2,0,0,True)\n",
    "Pnl2= NM_radial_wavefunction(effective_PE,600,0.1,1,0,0,True)\n",
    "plt.grid()\n",
    "plt.legend()\n"
   ]
  },
  {
   "cell_type": "markdown",
   "metadata": {},
   "source": [
    "# Radiative transitions in an unperturbed hydrogen atom"
   ]
  },
  {
   "cell_type": "markdown",
   "metadata": {},
   "source": [
    "This is a study of the oscillator strength for hydrogen atoms. Oscillator strength is a dimensionless quantity which is the frequency difference between two energy levels that one electron is allowed to be transited. The focus of this project is to compute and investigate the strongest transitions which arise from the dipole interaction in one atom. The following equation defines the oscillator strength:\n",
    "\n",
    "\n",
    "$f(nl\\rightarrow n'l')=\\frac{2}{3}(E_{n'l'}-E_{nl})C_{l'}\\mid\\int_0^\\infty P_{nl}(r)rP_{n'l'}(r)\\,dr \\mid^{2} $\n",
    "\n",
    "where $ C_{l'}=\\frac{max(l,l')}{2l+1}$,  $E_{n'l'}>E_{nl}$, $l'=l+1$\n",
    "\n",
    "and both $E_{n'l'}$and$E_{nl}$ are in atomic units,$E_{nl}=-\\frac{1}{2n^{*2}}$; $E_{n'l'}=-\\frac{1}{2n'^{*2}}$"
   ]
  },
  {
   "cell_type": "markdown",
   "metadata": {},
   "source": [
    "Firstly, find the term $\\int_0^\\infty P_{nl}(r)rP_{n'l'}(r)\\,dr $, which is the integration from origin to positive infinity of radial wavefunctions and position operator r with respect to radius r. Since the numerical solution of $P_{nl}$ has been found as above, the numerical value of $\\int_0^\\infty P_{nl}(r)rP_{n'l'}(r)\\,dr $ thus can be determined. \n",
    "To simplfy the issue, the transition of an electron from 1S orbital to 2P orbital will be studied.\n",
    "\n",
    "The radial wavefunction of a hydrogen atom at 1S orbital is defined as follows:\n",
    "\n",
    "$P(1s)=2re^{-r}$\n",
    "\n",
    "The radial wavefunction of a hydrogen atom at 2P orbital is defined as follows:\n",
    "\n",
    "$P(2p)=\\frac{1}{2\\sqrt{6}}r^{2}e^{-\\frac{r}{2}}$"
   ]
  },
  {
   "cell_type": "code",
   "execution_count": 8,
   "metadata": {},
   "outputs": [],
   "source": [
    "def analytic_P1s(r):\n",
    "    \"\"\"The analytical solution of the radial wavefunction in 1S orbital\"\"\"\n",
    "    return 2*r*np.exp(-r)\n",
    "def analytic_P2p(r):\n",
    "    \"\"\"The analytical solution of the radial wavefunction in 2P orbital\"\"\"\n",
    "    return 1/(2*np.sqrt(6))*r*r*np.exp(-r/2)"
   ]
  },
  {
   "cell_type": "code",
   "execution_count": 9,
   "metadata": {},
   "outputs": [],
   "source": [
    "def analytical_integral(fun,N,h,n,l,QD):\n",
    "    \"\"\"Having looked up the analytical solutions of the radial wavefunctions at \n",
    "    different energy level and different orbitals, analytical solutions can be \n",
    "    calculated by integrating \"PrP_prime\" from origin to infinity\"\"\"\n",
    "    wave=SBS_method(fun,N,h,n,l,QD) #wave[0] provides the x axis for the later integration use\n",
    "    P1s = np.zeros((N+1))\n",
    "    P2p = np.zeros((N+1))\n",
    "    r=0 # starting point is 0\n",
    "    P1s[0]=0 # wavefunction of 1s is equal to 0 at the origin \n",
    "    P2p[0]=0 # wavefunction of 2p is equal to 0 at the origin\n",
    "    for i in range(1,N):\n",
    "        r+=h\n",
    "        P1s[i]=analytic_P1s(r)\n",
    "        P2p[i]=analytic_P2p(r)\n",
    "    matrix_element=P1s*P2p*wave[0] \n",
    "    # matrix element which is comprised of the product of r and radial wave function in two energy states\n",
    "    integral=integrate.simps(matrix_element,wave[0]) \n",
    "    #integrating the matrix element\n",
    "    plot(wave[0],P1s,'Normalised Radial wave equation of a hydrogen atom ',n,l)\n",
    "    plot(wave[0],P2p,'Normalised Radial wave equation of a hydrogen atom ',2,1)\n",
    "    plt.legend()\n",
    "    plt.grid()\n",
    "    return integral"
   ]
  },
  {
   "cell_type": "code",
   "execution_count": 10,
   "metadata": {},
   "outputs": [
    {
     "data": {
      "text/plain": [
       "1.2902661492759353"
      ]
     },
     "execution_count": 10,
     "metadata": {},
     "output_type": "execute_result"
    },
    {
     "data": {
      "image/png": "[encoded data removed]",
      "text/plain": [
       "<matplotlib.figure.Figure at 0x29dd9f00400>"
      ]
     },
     "metadata": {
      "needs_background": "light"
     },
     "output_type": "display_data"
    }
   ],
   "source": [
    "analytical_integral(effective_PE,200,0.1,1,0,0)"
   ]
  },
  {
   "cell_type": "code",
   "execution_count": 11,
   "metadata": {},
   "outputs": [],
   "source": [
    "def numerical_integral(fun,N,h,n,l,QD,n_prime,l_prime,QD_prime,show_plot):\n",
    "    \"\"\"This is a function which integrate \"PrP_prime\" from origin to \n",
    "    infinity to obtain a numerial result, where \"PrP\" stands for the \n",
    "    product of two radial wavefunctions and position operator r  \n",
    "    fun is the potential function of an atom\n",
    "    N is the total number of the points\n",
    "    h is the interval between two neibouring points\n",
    "    n is the principle quantum number in the initial level\n",
    "    l is the orbital angular momentum quantum number in the initial level\n",
    "    QD is the quantum defect in the initial level\n",
    "    n_prime is the principle quantum number in the transited level\n",
    "    l_prime is the orbital angular momentum quantum number in the transited level\n",
    "    QD_prime is the quantum defect in the transited level\n",
    "    R is a large value where the wavefunction terminates \"\"\"\n",
    "    wave=SBS_method(fun,N,h,n,l,QD) \n",
    "    #wave[0] provides the x axis for the later integration use\n",
    "    \n",
    "    RW=NM_radial_wavefunction(fun,N,h,n,l,QD,show_plot)\n",
    "    # the radial wavefunction of the electron in the initial level\n",
    "    RW_prime=NM_radial_wavefunction(fun,N,h,n_prime,l_prime,QD_prime,show_plot)  \n",
    "    # the radial wavefunction of the electron in the transited level\n",
    "    matrix_element=RW*wave[0]*RW_prime \n",
    "    # the product of two radial wavefunctions and r\n",
    "    integral=integrate.simps(matrix_element,wave[0]) \n",
    "    # the integration from origin to positive infinity of PrP_prime\n",
    "\n",
    "    return integral"
   ]
  },
  {
   "cell_type": "code",
   "execution_count": 12,
   "metadata": {},
   "outputs": [
    {
     "data": {
      "text/plain": [
       "1.2920077948550936"
      ]
     },
     "execution_count": 12,
     "metadata": {},
     "output_type": "execute_result"
    }
   ],
   "source": [
    "numerical_integral(effective_PE,200,0.1,1,0,0,2,1,0,False)"
   ]
  },
  {
   "cell_type": "markdown",
   "metadata": {},
   "source": [
    "After that, compare the obtainde value with the value calculated from analytical value."
   ]
  },
  {
   "cell_type": "markdown",
   "metadata": {},
   "source": [
    "Finally, The calculated numerical solutions can be used to find the oscillation strength."
   ]
  },
  {
   "cell_type": "code",
   "execution_count": 13,
   "metadata": {},
   "outputs": [],
   "source": [
    "def Energy_diff(n,QD,n_prime,QD_prime):\n",
    "    \"\"\"This function finds the energy shift between two levels \n",
    "    where an electron has transfered \"\"\"\n",
    "    Energy=-1/(2*(n-QD)*(n-QD)) \n",
    "    # energy of the electron at the initial level \n",
    "    Energy_prime=-1/(2*(n_prime-QD_prime)*(n_prime-QD_prime)) \n",
    "    # energy of the electron at the transited level \n",
    "    return Energy_prime-Energy"
   ]
  },
  {
   "cell_type": "code",
   "execution_count": 14,
   "metadata": {},
   "outputs": [],
   "source": [
    "def Cl_prime(l,l_prime):\n",
    "    \"\"\"A constant which has orbital angular momentum quantum number dependency \n",
    "    in the function \"Oscillator_strength\" \"\"\"\n",
    "    max_val=np.max([l,l_prime]) \n",
    "    # find the larger value between the orbital angular momentum quantum numbers \n",
    "    # which are before and after transition\n",
    "    return max_val/(2*l+1)"
   ]
  },
  {
   "cell_type": "code",
   "execution_count": null,
   "metadata": {},
   "outputs": [],
   "source": [
    "def oscillator_strength(fun,N,h,n,l,QD,n_prime,l_prime,QD_prime):\n",
    "    \"\"\"This is a funciton which find the oscillator strength of a hydrogen atom \n",
    "    while the strong transition occurs\n",
    "    N is the total number of points\n",
    "    h is the interval between two neighbouring points\n",
    "    n is the principal quantum number in the initial level\n",
    "    l is the orbital angular momentum quantum number in the initial level\n",
    "    QD is the quantum defect in the initial level\n",
    "    n_prime is the principal quantum number in the transited level\n",
    "    l_prime is the orbital angular momentum quantum number in the transited level\n",
    "    QD_prime is the quantum defect in the transited level\n",
    "    R is a large value where the wave function terminates \"\"\"\n",
    "    integral_squared=numerical_integral(fun,N,h,n,l,QD,n_prime,l_prime,QD_prime,False)**2\n",
    "    strength=(2/3)*Energy_diff(n,QD,n_prime,QD_prime)*Cl_prime(l,l_prime)*integral_squared \n",
    "    # Oscillator strength is a measure of frequency\n",
    "    return strength"
   ]
  },
  {
   "cell_type": "markdown",
   "metadata": {},
   "source": [
    "## Unperturbed oscillator strength in a hydrogen atom"
   ]
  },
  {
   "cell_type": "code",
   "execution_count": null,
   "metadata": {},
   "outputs": [],
   "source": [
    "os2p1s=oscillator_strength(effective_PE,200,0.1,2,1,0,1,0,0)\n",
    "os1s2p=oscillator_strength(effective_PE,200,0.1,1,0,0,2,1,0)\n",
    "os11p10s=oscillator_strength(effective_PE,4000,0.1,11,1,0,10,0,0)\n",
    "os10s11p=oscillator_strength(effective_PE,4000,0.1,10,0,0,11,1,0)\n",
    "print(os2p1s,os1s2p,os11p10s,os10s11p)"
   ]
  },
  {
   "cell_type": "code",
   "execution_count": null,
   "metadata": {},
   "outputs": [],
   "source": [
    "os=np.zeros((4,10)) \n",
    "#data of unperturbed oscillator strength in a hydrogen atom\n",
    "for ni in range(1,5):# ni is the initial n\n",
    "    for nf in range (1,10): # nf is the final n\n",
    "        os[ni-1,nf]=oscillator_strength(effective_PE,5000,0.1,nf+1,2,0,ni,1,0)  \n",
    "print(os)"
   ]
  },
  {
   "cell_type": "markdown",
   "metadata": {},
   "source": [
    "## life time of atomic hydrogen and Einstein coefficients\n"
   ]
  },
  {
   "cell_type": "code",
   "execution_count": null,
   "metadata": {},
   "outputs": [],
   "source": [
    "def Lyman_series(n):\n",
    "    \"\"\"function for lyman series which have an electron transfering from a high energy level\n",
    "    to the ground state by emitting a photon\"\"\"\n",
    "    series=np.zeros(n-2)\n",
    "    for i in range(2,n):\n",
    "        series[i-2]=oscillator_strength(effective_PE,1000,0.1,i,1,0,1,0,0)\n",
    "    return series"
   ]
  },
  {
   "cell_type": "code",
   "execution_count": null,
   "metadata": {},
   "outputs": [],
   "source": [
    "abs(Lyman_series(10))"
   ]
  },
  {
   "cell_type": "markdown",
   "metadata": {},
   "source": [
    "#### Transition rate for spontaneous emission in terms of oscillator strength is defined as follows:\n",
    "\n",
    "$W^{s}_{ka}=\\frac{2\\hbar\\alpha(\\omega_{ka})^{2}}{mc^{2}}|f_{ka}| $\n",
    "\n",
    "Where, $\\omega$ is the angular frequency, $\\omega_{ka}=(E_{k}-E_{a})/\\hbar=\\frac{3}{8}\\frac{mc^{2}}{\\hbar}(Z\\alpha)^{2}$"
   ]
  },
  {
   "cell_type": "code",
   "execution_count": null,
   "metadata": {},
   "outputs": [],
   "source": [
    "def tran_rate_spon_emiss(fun,N,h,n,l,QD,n_prime,l_prime,QD_prime):\n",
    "    \"\"\"transitoin rate for spontaneous emission of a hydrogen atom\"\"\"\n",
    "    \n",
    "    #constants in SI units\n",
    "    \n",
    "    m_e=9.109*10**(-31)\n",
    "    #mass of an electron (kg)\n",
    "    h_bar=6.62607015*10**(-34)/(2*np.pi)\n",
    "    #planck constant/2π\n",
    "    permittivity=8.8541878176*10**(-12)\n",
    "    #permittivity of vacuum (F/m)\n",
    "    e=1.602176634*10**(-19)\n",
    "    #charge of an electron in coulomb (c)\n",
    "    c=299792458 \n",
    "    #speed of light (m/s)\n",
    "    FINE_STR=e**2/(4*np.pi*permittivity*h_bar*c)\n",
    "    #Fine structure constant\n",
    "    omega_square=((3*m_e*(c**2)*(FINE_STR)**2)/(8*h_bar))**2\n",
    "    #diference between angular frequency and squared\n",
    "    \n",
    "    absolute_os=abs(oscillator_strength(fun,N,h,n,l,QD,n_prime,l_prime,QD_prime))\n",
    "    \n",
    "    w=(2*h_bar*FINE_STR*omega_square)*absolute_os/(m_e*(c**2))\n",
    "    # transition rate\n",
    "    return w"
   ]
  },
  {
   "cell_type": "code",
   "execution_count": null,
   "metadata": {},
   "outputs": [],
   "source": [
    "spon_emiss_2p1s=tran_rate_spon_emiss(effective_PE,2000,0.1,2,1,0,1,0,0)\n",
    "print(spon_emiss_2p1s)"
   ]
  },
  {
   "cell_type": "markdown",
   "metadata": {},
   "source": [
    "#### Lifetime of atomic hydrogen \n",
    "\n",
    "$\\tau=\\frac{1}{\\sum W(nl\\rightarrow n'l')}$"
   ]
  },
  {
   "cell_type": "code",
   "execution_count": null,
   "metadata": {},
   "outputs": [],
   "source": [
    "tau=1/spon_emiss_2p1s\n",
    "print(tau)"
   ]
  },
  {
   "cell_type": "markdown",
   "metadata": {},
   "source": [
    "#### Einstein Coefficients\n",
    "\n",
    "$A_{21}=F(\\omega)B_{21}=W^{s}_{21}$\n",
    "\n",
    "Where $F(\\omega)=\\frac{\\hbar\\omega_{12}^{3}}{\\pi^{2}c^{3}}, \\omega$ is the angular frequency, $\\omega_{ka}=(E_{k}-E_{a})/\\hbar=\\frac{3}{8}\\frac{mc^{2}}{\\hbar}(Z\\alpha)^{2}$\n",
    "\n",
    "$B_{21}=\\frac{A_{21}}{F(\\omega)}=\\frac{A_{21}\\pi^{2}c^{3}}{\\hbar\\omega_{12}^{3}}$\n",
    "\n",
    "Where $g_{1}=\\frac{1}{g_{2}}$\n",
    "\n",
    "\n",
    "\n",
    "$B_{12}=\\frac{g1}{g2}B_{21}$\n",
    "\n"
   ]
  },
  {
   "cell_type": "code",
   "execution_count": null,
   "metadata": {},
   "outputs": [],
   "source": [
    "def Einstein_Coefficients(fun,N,h,n,l,QD,n_prime,l_prime,QD_prime,EC_type):\n",
    "    \n",
    "    #constants in SI units\n",
    "    m_e=9.109*10**(-31)\n",
    "    #mass of an electron (kg)\n",
    "    h_bar=6.62607015*10**(-34)/(2*np.pi)\n",
    "    #planck constant/2π\n",
    "    permittivity=8.8541878176*10**(-12)\n",
    "    #permittivity of vacuum (F/m)\n",
    "    e=1.602176634*10**(-19)\n",
    "    #charge of an electron in coulomb (c)\n",
    "    c=299792458 \n",
    "    #speed of light (m/s)\n",
    "    FINE_STR=e**2/(4*np.pi*permittivity*h_bar*c)\n",
    "    #Fine structure constant\n",
    "    omega_cubed=((3*m_e*(c**2)*(FINE_STR)**2)/(8*h_bar))**3\n",
    "    \n",
    "    A_21=tran_rate_spon_emiss(fun,N,h,n,l,QD,n_prime,l_prime,QD_prime)\n",
    "    if EC_type==\"EC_A_21\":# spontaneous emission\n",
    "        return A_21\n",
    "    else:              # stimulated emission or absorption\n",
    "        F_omega=(h_bar*omega_cubed)/(((np.pi)**2)*c**3)\n",
    "        #equilibrium radiation energy density\n",
    "        B_21=A_21/F_omega\n",
    "        if EC_type==\"EC_B_21\":\n",
    "            return B_21,F_omega\n",
    "            # stimulated emission\n",
    "        else:\n",
    "            B_12=(2*l+1)*B_21\n",
    "            return B_12\n",
    "            # stimulated absorption"
   ]
  },
  {
   "cell_type": "code",
   "execution_count": null,
   "metadata": {},
   "outputs": [],
   "source": [
    "Einstein_Coefficients(effective_PE,2000,0.1,3,0,0,2,1,0,\"EC_A_21\")"
   ]
  },
  {
   "cell_type": "code",
   "execution_count": null,
   "metadata": {},
   "outputs": [],
   "source": [
    "A=np.zeros((4,10)) \n",
    "#data of unperturbed oscillator strength in a hydrogen atom\n",
    "for ni in range(1,5):# ni is the initial n\n",
    "    for nf in range (1,10): # nf is the final n\n",
    "        A[ni-1,nf]=Einstein_Coefficients(effective_PE,2000,0.1,nf+1,2,0,ni,1,0,\"EC_A_21\")\n",
    "print(A)"
   ]
  },
  {
   "cell_type": "markdown",
   "metadata": {},
   "source": [
    "# The influence of a week magnetic field in a hydrogen atom"
   ]
  },
  {
   "cell_type": "markdown",
   "metadata": {},
   "source": [
    " This part of the project focuses on the perturbation of a weak external magnetic field. The assumption that has made was to neglect the spin part of the wavefunction, so that spin orbit coupling would not occur. The total angular momentum quantum number J is the sum of orbital angular momentum quantum number L and spin quantum number S. In this special case, J is equivalent to L.\n",
    "\n",
    "\n",
    "The following oscillator strength equation is an update version with the addition of the magnetic quantum number m :\n"
   ]
  },
  {
   "cell_type": "markdown",
   "metadata": {},
   "source": [
    "$\n",
    "\\begin{align}\n",
    "&f(nlm\\rightarrow n'l'm')\\\\\n",
    "&=\\frac{2}{3}(E_{n'l'm'}-E_{nlm})\\mid\\int_0^\\infty P_{nl}(r)Y_{lm}^{*}(θ,ϕ)(\\frac{4π }{3})^{\\frac{1}{2}}rY_{1μ}(θ,ϕ)P_{n'l'}(r)Y_{l'm'}(θ,ϕ)\\sin(θ)dr dθdϕ \\mid^{2} \\\\\n",
    "\\end{align}\n",
    "$\n",
    "\n",
    "where  $E_{n'l'm'}>E_{nlm}$, $l'=l+1$, $m=-l,…0,…l$， m is the magnetic quantum number, P is the radial wave function, Y is the angular part of the wave function.\n"
   ]
  },
  {
   "cell_type": "markdown",
   "metadata": {},
   "source": [
    "Extracting the angular part of the integral out:"
   ]
  },
  {
   "cell_type": "markdown",
   "metadata": {},
   "source": [
    "$\n",
    "\\begin{align}\n",
    "I & = \\int_0^\\infty Y_{lm}^{*}(θ,ϕ)(\\frac{4π }{3})^{\\frac{1}{2}}Y_{1μ}(θ,ϕ)Y_{l'm'}(θ,ϕ)sin(θ)\\,dθdϕ \\\\\n",
    " & = [(2l+1)(2l'+1)]^{\\frac{1}{2}}(-1)^{m}\\begin{pmatrix} l&1&l'\\\\0&0&0 \\end{pmatrix}\\quad\\begin{pmatrix} l&1&l'\\\\-m&μ&m' \\end{pmatrix}\\quad\\\\\n",
    "\\end{align}\n",
    "$"
   ]
  },
  {
   "cell_type": "markdown",
   "metadata": {},
   "source": [
    "$\n",
    "\\begin{align}\n",
    "\\begin{pmatrix} l&1&l'\\\\0&0&0 \\end{pmatrix}\\quad\\begin{pmatrix} l&1&l'\\\\-m&μ&m' \\end{pmatrix}\\quad\\\\\n",
    "\\end{align}\n",
    "$\n",
    "are not matrices but algebraic coefficients that can be evaluated using the following relations:\n"
   ]
  },
  {
   "cell_type": "markdown",
   "metadata": {},
   "source": [
    "$\n",
    "\\begin{align}\n",
    "\\begin{pmatrix} J+1&J&1\\\\M&-M-1&1 \\end{pmatrix}\\quad& =(-1)^{J-M-1}{[\\frac{(J-M)(J-M+1)}{(2J+3)(2J+2)(2J+1)}]}^{\\frac{1}{2}},\\\\\n",
    "\\begin{pmatrix} J+1&J&1\\\\M&-M&0 \\end{pmatrix}\\quad& =(-1)^{J-M-1}{[\\frac{(J+M+1)(J-M+1)×2}{(2J+3)(2J+2)(2J+1)}]}^{\\frac{1}{2}},\\\\\n",
    "\\begin{pmatrix} j1&j2&j3\\\\m1&m2&m3 \\end{pmatrix}\\quad& =(-1)^{j1+j2+j3}\\begin{pmatrix} j1&j2&j3\\\\-m1&-m2&-m3 \\end{pmatrix}\\quad,\\\\\n",
    "\\begin{pmatrix} j1&j2&j3\\\\0&0&0 \\end{pmatrix}\\quad& =0,\\>if\\> J\\> is\\> odd\\> where\\> J=j1+j2+j3,\\\\\n",
    "\\begin{pmatrix} j1&j2&j3\\\\m1&m2&m3 \\end{pmatrix}\\quad& =0,\\> unless\\>\\> m1+m2+m3=0\\\\\n",
    "\\end{align}\n",
    "$\n",
    "\n",
    "$\\mid mi\\mid\\le j_{i};i=1,2,3$"
   ]
  },
  {
   "cell_type": "markdown",
   "metadata": {},
   "source": [
    "The following equations are two cases for \n",
    "$\n",
    "\\begin{align}\n",
    "\\begin{pmatrix} l&1&l'\\\\-m&μ&m' \\end{pmatrix}\\quad:\\\\\n",
    "\\end{align}\n",
    "$"
   ]
  },
  {
   "cell_type": "markdown",
   "metadata": {},
   "source": [
    "##### 1.When μ=0; l=l; l’=l+1; m=m; m’=m+μ=m,\n",
    "\n",
    "$\n",
    "\\begin{align}\n",
    "\\begin{pmatrix} l&1&l'\\\\-m&μ&m' \\end{pmatrix}\\quad&=\\begin{pmatrix} l&1&l+1\\\\-m&0&m \\end{pmatrix}\\quad\\\\\n",
    "&= \\begin{pmatrix} l+1&l&1\\\\m&-m&0 \\end{pmatrix}\\quad\\\\\n",
    "&=(-1)^{l-m-1}{[\\frac{(l+m+1)(l-m+1)×2}{(2l+3)(2l+2)(2l+1)}]}^{\\frac{1}{2}}\\\\\n",
    "\\end{align}\n",
    "$"
   ]
  },
  {
   "cell_type": "markdown",
   "metadata": {},
   "source": [
    "##### 2.When μ=1, J=l, M=m-1\n",
    "\n",
    "$\n",
    "\\begin{align}\n",
    "\\begin{pmatrix} l&1&l'\\\\-m&μ&m' \\end{pmatrix}\\quad\n",
    "&=\\begin{pmatrix} l&1&l+1\\\\-m&1&m-1 \\end{pmatrix}\\quad\\\\\n",
    "&=\\begin{pmatrix} l+1&l&1\\\\m-1&-m&1 \\end{pmatrix}\\quad\\\\\n",
    "&=(-1)^{l-(m-1)-1}{[\\frac{(l-(m-1))(l-(m-1)+1)}{(2l+3)(2l+2)(2l+1)}]}^{\\frac{1}{2}}\\\\\n",
    "\\end{align}\n",
    "$\n"
   ]
  },
  {
   "cell_type": "code",
   "execution_count": null,
   "metadata": {},
   "outputs": [],
   "source": [
    "def vc_coefficient_l(l,m,l_prime,m_prime,mu):\n",
    "    \"\"\"A function calculating Vector-Coupling coefficient\"\"\"\n",
    "    if l_prime==l+1:\n",
    "        M1=m-1\n",
    "        if mu==0:\n",
    "            phase_constant0=(-1)**(l-m_prime-1)\n",
    "            sqrt_term0= np.sqrt((l+m_prime+1)*(l-m_prime+1)*2/((2*l+3)*(2*l+2)*(2*l+1)))\n",
    "            return phase_constant0*sqrt_term0\n",
    "        else:\n",
    "            phase_constant=(-1)**(l-M1)\n",
    "            sqrt_term= np.sqrt((l-M1)*(l-M1+1)/((2*l+3)*(2*l+2)*(2*l+1)))\n",
    "            return phase_constant*sqrt_term\n",
    "    else:\n",
    "        L1=l-1\n",
    "        M2=-m\n",
    "        if mu==0:\n",
    "            phase_constant0=(-1)**(L1-M2-1)\n",
    "            sqrt_term0= np.sqrt((L1+M2+1)*(L1-M2+1)*2/((2*L1+3)*(2*L1+2)*(2*L1+1)))\n",
    "            return phase_constant0*sqrt_term0\n",
    "        else:\n",
    "            phase_constant=(-1)**(L1-M2)\n",
    "            sqrt_term= np.sqrt((L1-M2)*(L1-M2+1)/((2*L1+3)*(2*L1+2)*(2*L1+1)))\n",
    "            return phase_constant*sqrt_term     "
   ]
  },
  {
   "cell_type": "markdown",
   "metadata": {},
   "source": [
    "### Zero external magnetic field\n",
    "\n",
    "For the case of zero external magnetic field, the oscillator strength will only have n and l dependence as defined as follows:\n"
   ]
  },
  {
   "cell_type": "markdown",
   "metadata": {},
   "source": [
    "$\n",
    "\\begin{align}\n",
    "f(nl\\rightarrow n'l')=\\frac{1}{2l+1}\\sum_{mm'\\mu}f(nlm\\rightarrow n'l'm')\\\\\n",
    "\\end{align}\n",
    "$"
   ]
  },
  {
   "cell_type": "markdown",
   "metadata": {},
   "source": [
    "Where we have summed over final states m’ and averaged over initial states m. Moreover, the different components of the vector r was summed over as well. Since there are (2l+1) degenerate m states, the total sum of the oscillator strength with variable (nlm) was divided by its weight (2l+1).\n"
   ]
  },
  {
   "cell_type": "markdown",
   "metadata": {},
   "source": [
    "In what follows, it is the general analysis of the term Clwhich has appeared in (11).\n",
    "\n",
    "$\n",
    "\\begin{align}\n",
    "\\frac{1}{2l+1}\\sum_{mm'\\mu}I^{2} & =(2l'+1){\\begin{pmatrix} l&1&l'\\\\0&0&0 \\end{pmatrix}\\quad}^{2}\\sum_{mm'\\mu}{\\begin{pmatrix} l&1&l'\\\\-m&μ&m' \\end{pmatrix}\\quad}^{2}\\\\\n",
    "& =(2l'+1){\\begin{pmatrix} l&1&l'\\\\0&0&0 \\end{pmatrix}\\quad}^{2}\\\\\n",
    "& =C_{l}\\\\\n",
    "\\end{align}\n",
    "$\n",
    "\n",
    "where $l'=l\\pm1$\n"
   ]
  },
  {
   "cell_type": "markdown",
   "metadata": {},
   "source": [
    "### Weak external magnetic field\n",
    "Eternal Zeeman effect occurs while applying a weak magnetic field upon an atom. The reason that a strong magnetic field is not applied is due to the fact that the wide split of energy levels inside of an atom can break it apart.\n",
    "Now, if a magnetic field is applied, the energies of the perturbed states are given by:\n",
    "\n",
    "$ E_{nlm}=E_{nl}+μ_{e}B_{m} $\t\t\n",
    "\n",
    "Where μe is the Bohr magneton[1], it is defined as follows:\n",
    "\n",
    "$\n",
    "\\begin{align}\n",
    "μe&=\\frac{eh}{2m_{e}}\\\\\n",
    "&=9.2740094910-24JT^{-1}\\\\\n",
    "&=2.1271912131510-6E_{H}T^{-1} \\\\\n",
    "\\end{align}\n",
    "$\n",
    "\n",
    "$E_{H}$is a unit of energy in atomic units, and $E_{H}$=4.3597441710-18J\n",
    "\n"
   ]
  },
  {
   "cell_type": "markdown",
   "metadata": {},
   "source": [
    "Rewrite equation of oscillator strength with variable nlm in terms of angular and radial part separately:"
   ]
  },
  {
   "cell_type": "markdown",
   "metadata": {},
   "source": [
    "$\n",
    "\\begin{align}\n",
    "&f(nlm\\rightarrow n'l'm')\\\\\n",
    "&=\\frac{2}{3}[E_{n'l'}-E_{nl}+\\mu_{e}B×(m'-m)]\\mid\\int_0^\\infty P_{nl}(r)rP_{n'l'}(r)dr \\mid^{2} \\\\\n",
    "&×(2l+1)(2l'+1){[\\begin{pmatrix} l&1&l'\\\\0&0&0 \\end{pmatrix}\\quad\\begin{pmatrix} l&1&l'\\\\-m&μ&m' \\end{pmatrix}\\quad]}^{2}\n",
    "\\end{align}\n",
    "$\n",
    "\n",
    "B is the field in units of T (Tesla) and so from (25) (26), μeBm can be expressed in atomic units of energy.\n"
   ]
  },
  {
   "cell_type": "markdown",
   "metadata": {},
   "source": [
    "With the relations of the algebraic coefficients (16), (17), (18) and (20), the perturbed oscillator strengths are related to the field free ones simply through algebraic coefficients and field B.\n",
    "\n",
    "\n",
    "$\n",
    "\\begin{align}\n",
    "&f(nlm\\rightarrow n'l'm')\\\\\n",
    "&=[1+\\frac{\\mu_{e}B×(m'-m)}{E_{n'l'}-E_{nl}}]{\\begin{pmatrix} l&1&l'\\\\-m&μ&m' \\end{pmatrix}\\quad}^{2}(2l+1) f(nl\\rightarrow n'l') \\\\\n",
    "\\end{align}\n",
    "$"
   ]
  },
  {
   "cell_type": "code",
   "execution_count": null,
   "metadata": {},
   "outputs": [],
   "source": [
    "#transition_data=n,l,m,QD,n_prime,l_prime,m_prime,QD_prime\n",
    "def os_magnetic_1(fun,N,h,data,B):\n",
    "    \"\"\"orifinal version of oscillator strength in a weak magnetic field\n",
    "    in terms of unperturbed oscillator strength.\n",
    "    The spin part of the wave function is assumed to be negligible, thus L=J.\"\"\"\n",
    "    mu=data[-2]-data[2]\n",
    "    # difference between m' 1and m.\n",
    "    vc_coefficient_squared=(vc_coefficient_l(data[1],data[2],data[5],data[6],mu))**2\n",
    "    #vc_coefficient(l,m,l_prime,m_prime,mu)\n",
    "    unperturbed_os=oscillator_strength(fun,N,h,data[0],data[1],data[3],data[4],data[5],data[7])\n",
    "    \n",
    "    mu_e=(9.27400949/4.35974417)*10**(-6)\n",
    "    energy_coefficient=1+(mu_e*B*mu)/Energy_diff(data[0],data[3],data[4],data[-1])\n",
    "    #Energy_diff(n,QD,n_prime,QD_prime)\n",
    "    perturbed_os=(2*data[1]+1)*energy_coefficient*vc_coefficient_squared*unperturbed_os\n",
    "    return perturbed_os"
   ]
  },
  {
   "cell_type": "markdown",
   "metadata": {},
   "source": [
    "$\n",
    "\\begin{align}\n",
    "&f(nlm\\rightarrow n'l'm')\\\\\n",
    "&=\\frac{2}{3}[{E_{n'l'}-E_{nl}+\\mu_{e}B×(m'-m)}]{\\begin{pmatrix} l&1&l'\\\\-m&μ&m' \\end{pmatrix}\\quad}^{2}(2l+1) C_{l'}\\mid\\int_0^\\infty P_{nl}(r)rP_{n'l'}(r)\\,dr \\mid^{2} \\\\\n",
    "\\end{align}\n",
    "$\n",
    "\n",
    "where $ C_{l'}=\\frac{max(l,l')}{2l+1}$,  $E_{n'l'}>E_{nl}$, $l'=l+1$\n",
    "\n",
    "and both $E_{n'l'}$and$E_{nl}$ are in atomic units,$E_{nl}=-\\frac{1}{2n^{*2}}$; $E_{n'l'}=-\\frac{1}{2n'^{*2}}$"
   ]
  },
  {
   "cell_type": "code",
   "execution_count": null,
   "metadata": {},
   "outputs": [],
   "source": [
    "def os_magnetic_2(fun,N,h,data,B):\n",
    "    \"\"\"The second version of oscillator strength in a weak magnetic field\n",
    "    in terms of transition dipole moment.\n",
    "    The spin part of the wave function is assumed to be negligible, thus L=J.\"\"\"\n",
    "    mu=data[-2]-data[2]\n",
    "    # difference between m' 1and m\n",
    "    \n",
    "    vc_coefficient_squared=(vc_coefficient_l(data[1],data[2],data[5],data[6],mu))**2\n",
    "    #vc_coefficient(l,m,l_prime,m_prime,mu)\n",
    "    \n",
    "    integral_squared=numerical_integral(fun,N,h,data[0],data[1],data[3],data[4],data[5],data[7],False)**2\n",
    "    # numerical_integral(fun,N,h,n,l,QD,n_prime,l_prime,QD_prime,False)\n",
    "    \n",
    "    mu_e=(9.27400949/4.35974417)*10**(-6)\n",
    "    energy_coefficient=Energy_diff(data[0],data[3],data[4],data[-1])+mu_e*B*mu\n",
    "    \n",
    "    perturbed_os=(2/3)*(2*data[1]+1)*energy_coefficient*Cl_prime(data[1],data[5])*integral_squared*vc_coefficient_squared \n",
    "    # Cl_prime(l,l_prime)=Cl_prime(data[1],data[5])\n",
    "    # Oscillator strength is a measure of frequency\n",
    "    return perturbed_os,vc_coefficient_squared"
   ]
  },
  {
   "cell_type": "code",
   "execution_count": null,
   "metadata": {},
   "outputs": [],
   "source": [
    "#transition_data_mag=n,l,m,QD,n_prime,l_prime,m_prime,QD_prime\n",
    "transition_data_mag=3,1,0,0,2,0,0,0 \n",
    "#a=os_magnetic_1(effective_PE,2000,0.1,transition_data_mag,1)\n",
    "b=os_magnetic_2(effective_PE,2000,0.1,transition_data_mag,1)\n",
    "print(b)"
   ]
  },
  {
   "cell_type": "code",
   "execution_count": null,
   "metadata": {},
   "outputs": [],
   "source": [
    "osm=np.zeros((3)) \n",
    "#data of unperturbed oscillator strength in a hydrogen atom\n",
    "for nf in range(1,4):# ni is the initial n\n",
    "    #for nf in range (1,4): # nf is the final n\n",
    "    #print(nf)\n",
    "    transition_data=1,0,0,0,nf,1,1,0 \n",
    "    #transition_data=n,l,m,QD,n_prime,l_prime,m_prime,QD_prime\n",
    "    osm[nf-1]=os_magnetic_2(effective_PE,2000,0.1,transition_data,10)\n",
    "print(osm)"
   ]
  },
  {
   "cell_type": "markdown",
   "metadata": {},
   "source": [
    "# Spin orbit coupling in a hydrogen atom"
   ]
  },
  {
   "cell_type": "markdown",
   "metadata": {},
   "source": [
    "# Fine structure of a hydrogen atom"
   ]
  },
  {
   "cell_type": "markdown",
   "metadata": {},
   "source": [
    "On account of some relativistic effects, the energy levels of an hydrogen atom split to form a \"fine structure\" which is a more accurate structure to model the energy level of hydrogen atoms.\n"
   ]
  },
  {
   "cell_type": "markdown",
   "metadata": {},
   "source": [
    "$\n",
    "\\begin{align}\n",
    "\\Delta E_{so}(H)=&⟨\\Phi_{nljm_{j}}|\\frac{1}{2}ξ(r)[J^{2}-L^{2}-S^{2}]|\\Phi_{nljm_{j}}⟩ \\\\\n",
    "=&\\frac{\\hbar^{2} }{2}⟨ξ(r)⟩[j(j+1)-l(l+1)-\\frac{3}{4}]\\\\\n",
    "=&\\frac{mc^{2}(Z\\alpha)^{4}}{4n^{3}l(l+\\frac{1}{2})(l+1))}×\n",
    "      \\begin{cases}\n",
    "      l & \\text{for} j=l+\\frac{1}{2}\\\\\n",
    "      -l-1 & \\text{for}  j=l-\\frac{1}{2}\\\\\n",
    "    \\end{cases}  \\\\\n",
    "=&\\frac{Z^{4}}{c^{2}4n^{3}l(l+\\frac{1}{2})(l+1))}×\n",
    "      \\begin{cases}\n",
    "      l & \\text{for} j=l+\\frac{1}{2}\\\\\n",
    "      -l-1 & \\text{for}  j=l-\\frac{1}{2}\\\\\n",
    "    \\end{cases}   \\text{, in atomic units}\\\\\n",
    "\\end{align}\n",
    "$\n",
    "\n",
    "where $\\alpha=\\frac{1}{c}=\\frac{1}{137}$\n",
    "\n"
   ]
  },
  {
   "cell_type": "markdown",
   "metadata": {},
   "source": [
    "$\n",
    "\\begin{align}\n",
    "&f(nljmj\\rightarrow n'l'j'mj')\\\\\n",
    "&=\\frac{2}{3}[{E_{n'l'}-E_{nl}+\\Delta E_{so}}]\\mid\\int_0^\\infty P_{nl}(r)rP_{n'l'}(r)\\,dr \\mid^{2}max(J,J'){\\begin{pmatrix} J&1&J'\\\\-mj&μ&mj' \\end{pmatrix}\\quad}^{2} \\\\\n",
    "\\end{align}\n",
    "$\n",
    "\n",
    "where $ C_{l'}=\\frac{max(l,l')}{2l+1}$,  $E_{n'l'}>E_{nl}$, $l'=l+1$\n",
    "\n",
    "and both $E_{n'l'}$and$E_{nl}$ are in atomic units,$E_{nl}=-\\frac{1}{2n^{*2}}$; $E_{n'l'}=-\\frac{1}{2n'^{*2}}$"
   ]
  },
  {
   "cell_type": "code",
   "execution_count": null,
   "metadata": {},
   "outputs": [],
   "source": [
    "def energy_spin_orbit_H(data):\n",
    "    \"\"\"Spin-orbit energy for hydrogen atom only\n",
    "    data=n,l,j,mj,QD,n_prime,l_prime,j_prime,m_j_prime,QD_prime\"\"\"\n",
    "    \n",
    "    quantum_num=data[2]*(data[2]+1)-data[1]*(data[1]+1)-3/4\n",
    "    quantum_num_prime=data[-3]*(data[-3]+1)-data[-4]*(data[-4]+1)-3/4 \n",
    "    \n",
    "    if data[1] ==0:\n",
    "        energy=0\n",
    "        energy_prime=quantum_num_prime/(((137)**(2))*4*(data[5]**3)*data[6]*(data[6]+0.5)*(data[6]+1))\n",
    "        return energy_prime-energy\n",
    "    \n",
    "    if data[6]==0:\n",
    "        energy_prime=0\n",
    "        energy=quantum_num/(((137)**(2))*4*(data[0]**3)*data[1]*(data[1]+0.5)*(data[1]+1))\n",
    "        return energy_prime-energy\n",
    "    else:\n",
    "        energy=quantum_num/(((137)**(2))*4*(data[0]**3)*data[1]*(data[1]+0.5)*(data[1]+1))\n",
    "        energy_prime=quantum_num_prime/(((137)**(2))*4*(data[5]**3)*data[6]*(data[6]+0.5)*(data[6]+1))\n",
    "        return energy_prime-energy"
   ]
  },
  {
   "cell_type": "markdown",
   "metadata": {
    "collapsed": true
   },
   "source": [
    "The Spin-orbit coupling contributes a small addition to the energy of shells.\n",
    "\n",
    "$\\Delta E_{so}=\\frac{\\hbar^{2} }{2}⟨ξ(r)⟩[j(j+1)-l(l+1)-s(s+1)]$\n",
    "\n",
    "where $ξ(r)=\\frac{1}{2m^{2}c^{2}}\\frac{1}{r}\\frac{dV}{dr}$\n",
    "\n",
    "If V(r) is in atomic units of energy (a.u.) and r is in units of $a_{0}$\n",
    "\n",
    "$\\Delta E_{so}(a.u.)=\\frac{1}{4}\\alpha^{2}[j(j+1)-l(l+1)-s(s+1)]⟨\\frac{1}{r}\\frac{dV}{dr}⟩$\n",
    "\n",
    "where $\\alpha$ is the fine structure constant, $\\alpha=\\frac{1}{c}=\\frac{1}{137}$ in atomic units\n",
    "\n",
    "$\n",
    "\\begin{align}\n",
    "⟨\\frac{1}{r}\\frac{dV}{dr}⟩=&\\int_0^\\infty \\Phi^{*}_{nljm_{j}}\\frac{1}{r}\\frac{dV}{dr}\\Phi_{nljm_{j}}\\,dr\\\\\n",
    "=&\\int_0^\\infty \\mid P_{nl}(r)\\mid^{2}\\frac{1}{r}\\frac{dV}{dr}\\,dr\\\\\n",
    "\\end{align}\n",
    "$\n"
   ]
  },
  {
   "cell_type": "code",
   "execution_count": null,
   "metadata": {},
   "outputs": [],
   "source": [
    "def energy_spin_orbit(fun,N,h,data):\n",
    "    \"\"\"Spin-orbit energy for hydrogen atom only\n",
    "    data=n,l,j,mj,QD,n_prime,l_prime,j_prime,m_j_prime,QD_prime\"\"\"\n",
    "    \n",
    "    TOTAL_X= N*h #the furtherest distance between the electron and the nuclear\n",
    "    x = np.linspace(0,TOTAL_X,N+1) # each radial point on the x direction\n",
    "    v= np.zeros((N+1))\n",
    "    r=0 # start with radius is equal to 0\n",
    "    for i in range(1,N):\n",
    "        r+= h\n",
    "        v[i]=1/r # find the potential part of the radial wavefunction\n",
    "\n",
    "    derivative_v=(np.roll(v,-1) - np.roll(v,1))/(2*h)\n",
    "    \n",
    "    radial_wf_initial=NM_radial_wavefunction(fun,N,h,data[0],data[1],data[4],False)\n",
    "    radial_wf_final=NM_radial_wavefunction(fun,N,h,data[-5],data[-4],data[-1],False)\n",
    "    #NM_radial_wavefunction(fun,N,h,n,l,QD,False)\n",
    "    \n",
    "    initial_integrand=v*derivative_v*(radial_wf_initial**2)\n",
    "    final_integrand=v*derivative_v*(radial_wf_final**2)\n",
    "    \n",
    "    integral_initial=integrate.simps(initial_integrand,x)\n",
    "    integral_final=integrate.simps(final_integrand,x)\n",
    "    \n",
    "    constant=(1/4)*((1/137)**2)\n",
    "    quantum_num=data[2]*(data[2]+1)-data[1]*(data[1]+1)-3/4\n",
    "    quantum_num_prime=data[-3]*(data[-3]+1)-data[-4]*(data[-4]+1)-3/4 \n",
    "    \n",
    "    if data[1] ==0:\n",
    "        energy=0\n",
    "        energy_prime=constant*quantum_num_prime*integral_final\n",
    "        return energy_prime-energy\n",
    "    \n",
    "    if data[6]==0:\n",
    "        energy_prime=0\n",
    "        energy=constant*quantum_num*integral_initial\n",
    "        return energy_prime-energy\n",
    "    else:\n",
    "        energy=constant*quantum_num*integral_initial\n",
    "        energy_prime=constant*quantum_num_prime*integral_final\n",
    "        return energy_prime-energy"
   ]
  },
  {
   "cell_type": "markdown",
   "metadata": {},
   "source": [
    "# Spin-orbit coupling"
   ]
  },
  {
   "cell_type": "markdown",
   "metadata": {},
   "source": [
    "The integral for the dipole moment for Spin-orbit coupling cn be expressed in terms of total angular momentum $\\vec{J}=\\vec{L}+\\vec{S}$. We introduce the bra and ket notation $<a|$ and $|b>$ to label the atomic states so that for example $|nlm>$ corres[ponds to the wave funciton $\\frac{1}{r}P_{nl}(r)Y_{lm}(\\theta,\\phi)$ and\n",
    "\n",
    "$<nlm|n'l'm'>=\\int_0^\\infty P_{nl}(r)rP_{n'l'}(r)\\,dr \\int_0^\\infty Y_{lm}^{*}(θ,ϕ)Y_{l'm'}(θ,ϕ)sin(θ)\\,dθdϕ $\n",
    "\n",
    "In order to obtain wavefunctions with total angular momentum quantum number j, we couple states $|nlm>$ and $|sm_{s}>$ together so that\n",
    "\n",
    "$|nljm_{j}>=\\sum_{mm_{s}}C^{l s j}_{mm_{s}m_{j}}|nlm>|sm_{s}>$\n",
    "\n",
    "where $C^{l s j}_{mm_{s}m_{j}}=(-1)^{l-s+m_{j}}(2j+1)^{\\frac{1}{2}}{\\begin{pmatrix} l&s&j\\\\m&m_{s}&-m_{j} \\end{pmatrix}\\quad}$\n",
    "\n",
    "The dipole moment does not depend on spin, and so we have that\n",
    "\n",
    "$\n",
    "\\begin{align}\n",
    "D=&<nljm_{j}|(\\frac{4π }{3})^{\\frac{1}{2}}rY_{1μ}(θ,ϕ)|n'l'j'm'_{j}>\\\\\n",
    "=&\\sum_{mm'm_{s}}C^{l s j}_{mm_{s}m_{j}}C^{l' s j'}_{m'm_{s}m'_{j}}<nlm|(\\frac{4π }{3})^{\\frac{1}{2}}rY_{1μ}(θ,ϕ)|n'l'm'>\\\\\n",
    "=&(-1)^{l-s+m_{j}}(2j+1)^{\\frac{1}{2}}{\\begin{pmatrix} l&s&j\\\\m&m_{s}&-m_{j} \\end{pmatrix}\\quad}(-1)^{l'-s+m'_{j}}(2j'+1)^{\\frac{1}{2}}{\\begin{pmatrix} l'&s&j'\\\\m'&m_{s}&-m'_{j} \\end{pmatrix}\\quad} \\\\\n",
    "&×\\int_0^\\infty P_{nl}(r)rP_{n'l'}(r)dr [(2l+1)(2l'+1)]^{\\frac{1}{2}}(-1)^{m}{\\begin{pmatrix} l&1&l'\\\\0&0&0 \\end{pmatrix}\\quad\\begin{pmatrix} l&1&l'\\\\-m&μ&m' \\end{pmatrix}\\quad}\n",
    "\\end{align}\n",
    "$\n",
    "\n",
    "We now examine the sum over $mm'm_{s}$, we have that\n",
    "\n",
    "$\n",
    "\\begin{align}\n",
    "S=&\\sum_{mm'm_{s}}(-1)^{l-s+m_{j}}{\\begin{pmatrix} l&s&j\\\\m&m_{s}&-m_{j} \\end{pmatrix}\\quad}(-1)^{l'-s+m'_{j}}{\\begin{pmatrix} l'&s&j'\\\\m'&m_{s}&-m'_{j} \\end{pmatrix}\\quad} (-1)^{m}{\\begin{pmatrix} l&1&l'\\\\-m&μ&m' \\end{pmatrix}\\quad}\\\\\n",
    "=&\\sum_{mm'm_{s}}(-1)^{l-s+m_{j}+l'-s+m'_{j}+m}{\\begin{pmatrix} l&s&j\\\\m&m_{s}&-m_{j} \\end{pmatrix}\\quad}{\\begin{pmatrix} l&1&l'\\\\-m&μ&m' \\end{pmatrix}\\quad}{\\begin{pmatrix} j'&s&l'\\\\-m'_{j}&m_{s}&m' \\end{pmatrix}\\quad}\\\\\n",
    "=&\\sum_{mm'm_{s}}(-1)^{n}{\\begin{pmatrix} j'&s&l'\\\\-m'_{j}&m_{s}&m' \\end{pmatrix}\\quad}(-1)^{j'+s+l'}{\\begin{pmatrix} l&s&j\\\\m&m_{s}&-m_{j} \\end{pmatrix}\\quad}{\\begin{pmatrix} l&1&l'\\\\-m&μ&m' \\end{pmatrix}\\quad}\n",
    "\\end{align}\n",
    "$\n",
    "\n",
    "where $n=l-s+m_{j}+l'-s+m'_{j}+m$\n",
    "\n",
    "From Edmonds p95 eqn(6.2.8), we know the relation:\n",
    "\n",
    "$\n",
    "\\begin{align}\n",
    "&\\sum_{\\mu_{1}\\mu_{2}\\mu_{3}}(-1)^{l_{1}+l_{2}+l_{3}+\\mu_{1}+\\mu_{2}+\\mu_{3}}{\\begin{pmatrix}j_{1}&l_{2}&l_{3}\\\\m_{1}&mu_{2}&-\\mu{3} \\end{pmatrix}\\quad}{\\begin{pmatrix} l_{1}&j_{2}&l{3}\\\\-\\mu_{1}&m_{2}&\\mu{3} \\end{pmatrix}\\quad} {\\begin{pmatrix} l_{1}&l_{2}&j_{3}\\\\\\mu_{1}&-\\mu_{2}&m_{3} \\end{pmatrix}\\quad}\\\\\n",
    "&={\\begin{pmatrix} j_{1}&j_{2}&j_{3}\\\\m_{1}&m_{2}&m_{3} \\end{pmatrix}\\quad}{\\begin{Bmatrix} j_{1}&j_{2}&j_{3}\\\\l_{1}&l_{2}&l_{3} \\end{Bmatrix}\\quad}\\\\\n",
    "\\end{align}\n",
    "$\n",
    "\n",
    "Therefore, S can be rewrited as follows:\n",
    "\n",
    "$S=(-1)^{m_{j}+j'+l'}{\\begin{pmatrix} j'&1&j\\\\m'_{j}&\\mu &-m_{j} \\end{pmatrix}\\quad}{\\begin{Bmatrix} j'&1&j\\\\l&s&l' \\end{Bmatrix}\\quad}$\n",
    "\n"
   ]
  },
  {
   "cell_type": "markdown",
   "metadata": {},
   "source": [
    "The relations follows help with determing ${\\begin{pmatrix} j'&1&j\\\\m'_{j}&\\mu &-m_{j} \\end{pmatrix}\\quad}$\n",
    "\n",
    "$\n",
    "\\begin{align}\n",
    "\\begin{pmatrix} J+1&J&1\\\\M&-M-1&1 \\end{pmatrix}\\quad& =(-1)^{J-M-1}{[\\frac{(J-M)(J-M+1)}{(2J+3)(2J+2)(2J+1)}]}^{\\frac{1}{2}},\\\\\n",
    "\\begin{pmatrix} J+1&J&1\\\\M&-M&0 \\end{pmatrix}\\quad& =(-1)^{J-M-1}{[\\frac{(J+M+1)(J-M+1)×2}{(2J+3)(2J+2)(2J+1)}]}^{\\frac{1}{2}},\\\\\n",
    "\\begin{pmatrix} j1&j2&j3\\\\m1&m2&m3 \\end{pmatrix}\\quad& =(-1)^{j1+j2+j3}\\begin{pmatrix} j1&j2&j3\\\\-m1&-m2&-m3 \\end{pmatrix}\\quad,\\\\\n",
    "\\begin{pmatrix} j1&j2&j3\\\\0&0&0 \\end{pmatrix}\\quad& =0,\\>if\\> J\\> is\\> odd\\> where\\> J=j1+j2+j3,\\\\\n",
    "\\begin{pmatrix} j1&j2&j3\\\\m1&m2&m3 \\end{pmatrix}\\quad& =0,\\> unless\\>\\> m1+m2+m3=0,\\\\\n",
    "\\begin{pmatrix} J&J&1\\\\M&-M-1&1 \\end{pmatrix}\\quad& =(-1)^{J-M}{[\\frac{(J-M)(J+M+1)2}{(2J+2)(2J+1)(2J)}]}^{\\frac{1}{2}},\\\\\n",
    "\\begin{pmatrix} J&J&1\\\\M&-M&0 \\end{pmatrix}\\quad& =(-1)^{J-M}{\\frac{M}{[(2J+1)(J+1)J]^{\\frac{1}{2}}}}\\\\\n",
    "\\end{align}\n",
    "$\n"
   ]
  },
  {
   "cell_type": "markdown",
   "metadata": {},
   "source": [
    "${\\begin{pmatrix} j'&1&j\\\\m'_{j}&\\mu &-m_{j} \\end{pmatrix}\\quad}$ has the following 4 cases:\n",
    "\n",
    "##### 1.When j'=j, μ=0, J=j, M=m'_{j}\n",
    "\n",
    "$\n",
    "\\begin{align}\n",
    "\\begin{pmatrix} j'&1&j\\\\m'_{j}&μ&-m_{j} \\end{pmatrix}\\quad\n",
    "&=\\begin{pmatrix} j&1&j\\\\m_{j}&0&-m_{j} \\end{pmatrix}\\quad\\\\\n",
    "&=(-1)\\begin{pmatrix} j&j&1\\\\m_{j}&-m_{j}&0 \\end{pmatrix}\\quad\\\\\n",
    "&=(-1)^{j-m'_{j}+1}{\\frac{m'_{j}}{[(2j+1)(j+1)J]^{\\frac{1}{2}}}}\\\\\n",
    "\\end{align}\n",
    "$\n",
    "\n",
    "##### 2.When j'=j, μ=1,  J=l, M=m_{j}-1\n",
    "\n",
    "$\n",
    "\\begin{align}\n",
    "\\begin{pmatrix} j'&1&j\\\\m'_{j}&μ&-m_{j} \\end{pmatrix}\\quad\n",
    "&=\\begin{pmatrix} j&1&j\\\\m_{j}-1&1&-m_{j} \\end{pmatrix}\\quad\\\\\n",
    "&=(-1)\\begin{pmatrix} j&j&1\\\\m_{j}-1&-m_{j}&1 \\end{pmatrix}\\quad\\\\\n",
    "&=(-1)^{j-(m_{j}-1)+1}{[\\frac{(j-(m_{j}-1))(j+(m_{j}-1)+1)2}{(2j+2)(2j+1)(2j)}]}^{\\frac{1}{2}}\\\\\n",
    "\\end{align}\n",
    "$\n",
    "\n",
    "\n",
    "##### 3.when j'=j+1, μ=0, J=j, M=m'_{j}\n",
    "\n",
    "$\n",
    "\\begin{align}\n",
    "\\begin{pmatrix} j'&1&j\\\\m'_{j}&μ&-m_{j} \\end{pmatrix}\\quad\n",
    "&=\\begin{pmatrix} j+1&1&j\\\\m_{j}&0&-m_{j} \\end{pmatrix}\\quad\\\\\n",
    "&=(-1)\\begin{pmatrix} j+1&j&1\\\\m_{j}&-m_{j}&0 \\end{pmatrix}\\quad\\\\\n",
    "&=(-1)^{j-m'_{j}}{[\\frac{(j+m'_{j}+1)(j-m'_{j}+1)×2}{(2j+3)(2j+2)(2j+1)}]}^{\\frac{1}{2}}\\\\\n",
    "\\end{align}\n",
    "$\n",
    "\n",
    "##### 4.When j'=j+1, μ=1, J=j, M=m_{j}-1\n",
    "\n",
    "$\n",
    "\\begin{align}\n",
    "\\begin{pmatrix} j'&1&j\\\\m'_{j}&μ&-m_{j} \\end{pmatrix}\\quad\n",
    "&=\\begin{pmatrix} j+1&1&j\\\\m_{j}-1&1&-m_{j} \\end{pmatrix}\\quad\\\\\n",
    "&=(-1)\\begin{pmatrix} j+1&j&1\\\\m_{j}-1&-m_{j}&1 \\end{pmatrix}\\quad\\\\\n",
    "&=(-1)^{j-(m_{j}-1)}{[\\frac{(j-(m_{j}-1))(j-(m_{j}-1)+1)}{(2j+3)(2j+2)(2j+1)}]}^{\\frac{1}{2}}\\\\\n",
    "\\end{align}\n",
    "$\n"
   ]
  },
  {
   "cell_type": "code",
   "execution_count": null,
   "metadata": {},
   "outputs": [],
   "source": [
    "def vc_coefficient_j(j,mj,j_prime,mj_prime,mu_j):\n",
    "    \"\"\"A function calculating Vector-Coupling coefficient\"\"\"\n",
    "    M=mj-1\n",
    "    if j==j_prime:    \n",
    "        if mu_j==0:\n",
    "            phase_constant3=(-1)**(j-mj_prime+1)\n",
    "            sqrt_term3= mj_prime/np.sqrt((2*j+1)*(j+1)*j)\n",
    "            return phase_constant3*sqrt_term3    \n",
    "        else:\n",
    "            phase_constant4=(-1)**(j-(mj-1)+1)\n",
    "            sqrt_term4= np.sqrt((j-(mj-1))*(j-(mj-1)+1)*2/((2*j+2)*(2*j+1)*(2*j)))\n",
    "            return phase_constant4*sqrt_term4 \n",
    "    else:\n",
    "        if mu_j==0:\n",
    "            phase_constant1=(-1)**(j-mj_prime)\n",
    "            sqrt_term1= np.sqrt((j+mj_prime+1)*(j-mj_prime+1)*2/((2*j+3)*(2*j+2)*(2*j+1)))\n",
    "            return phase_constant1*sqrt_term1\n",
    "        else:\n",
    "            phase_constant2=(-1)**(j-(mj-1))\n",
    "            sqrt_term2= np.sqrt((j-(mj-1))*(j-(mj-1)+1)/((2*j+3)*(2*j+2)*(2*j+1)))\n",
    "            return phase_constant2*sqrt_term2"
   ]
  },
  {
   "cell_type": "markdown",
   "metadata": {},
   "source": [
    "The 6-j symbol $\\begin{Bmatrix} j'&1&j\\\\l&s&l' \\end{Bmatrix}\\quad$ can be determined with the following relations:\n",
    "\n",
    "$\n",
    "\\begin{align}\n",
    "\\begin{Bmatrix} a&b&c\\\\1&c-1&b-1 \\end{Bmatrix}\\quad& =(-1)^{k}{[\\frac{k(k+1)(k-2a-1)(k-2a)}{(2b-1)2b(2b+1)(2c-1)2c(2c+1)}]}^{\\frac{1}{2}},\\\\\n",
    "\\begin{Bmatrix} a&b&c\\\\1&c-1&b  \\end{Bmatrix}\\quad& =(-1)^{k}{[\\frac{2(k+1)(k-2a)(k-2b)(k-2c+1)}{2b(2b+1)(2b+2)(2c-1)2c(2c+1)}]}^{\\frac{1}{2}},\\\\\n",
    "\\begin{Bmatrix} a&b&c\\\\1&c-1&b+1  \\end{Bmatrix}\\quad& =(-1)^{k}{[\\frac{(k-2b-1)(k-2b)(k-2c+1)(k-2c+2)}{(2b+1)(2b+2)(2b+3)(2c-1)2c(2c+1)}]}^{\\frac{1}{2}}\\\\\n",
    "\\end{align}\n",
    "$\n",
    "\n",
    "where $k=a+b+c$"
   ]
  },
  {
   "cell_type": "markdown",
   "metadata": {},
   "source": [
    "$\n",
    "\\begin{align}\n",
    "\\begin{Bmatrix} j'&1&j\\\\l&s&l' \\end{Bmatrix}\\quad=&\\begin{Bmatrix} j'&s&l'\\\\l&1&j \\end{Bmatrix}\\quad\\\\\n",
    "=&(-1)\\begin{Bmatrix} s&j'&l'\\\\1&l&j \\end{Bmatrix}\\quad\\\\\n",
    "\\end{align}\n",
    "$\n",
    "\n",
    "##### 1.When a=s, b=j, c=l+1, k=s+j+l+1\n",
    "\n",
    "$\n",
    "\\begin{align}\n",
    "\\begin{Bmatrix} j'&1&j\\\\l&s&l' \\end{Bmatrix}\\quad=&(-1)\\begin{Bmatrix} s&j'&l'\\\\1&l&j \\end{Bmatrix}\\quad\\\\\n",
    "=&(-1)^{k+1}{[\\frac{2(k+1)(k-2s)(k-2j)(k-2(l+1)+1)}{2j(2j+1)(2j+2)(2(l+1)-1)2(l+1)(2(l+1)+1)}]}^{\\frac{1}{2}}\\\\\n",
    "\\end{align}\n",
    "$\n",
    "\n",
    "##### 2.When a=s, b=j+1, c=l+1, k=s+j+l+2\n",
    "\n",
    "$\n",
    "\\begin{align}\n",
    "\\begin{Bmatrix} j'&1&j\\\\l&s&l' \\end{Bmatrix}\\quad=&(-1)\\begin{Bmatrix} s&j'&l'\\\\1&l&j \\end{Bmatrix}\\quad\\\\\n",
    "=&(-1)^{k+1}{[\\frac{k(k+1)(k-2s-1)(k-2s)}{(2(j+1)-1)2(j+1)(2(j+1)+1)(2(l+1)-1)2(l+1)(2(l+1)+1)}]}^{\\frac{1}{2}}\\\\\n",
    "\\end{align}\n",
    "$\n",
    "\n",
    "\n",
    "\n",
    "##### 3.When a=s, b=j-1, c=l+1, k=s+j+l\n",
    "\n",
    "$\n",
    "\\begin{align}\n",
    "\\begin{Bmatrix} j'&1&j\\\\l&s&l' \\end{Bmatrix}\\quad=&(-1)\\begin{Bmatrix} s&j'&l'\\\\1&l&j \\end{Bmatrix}\\quad\\\\\n",
    "=&(-1)^{k+1}{[\\frac{(k-2(j-1)-1)(k-2(j-1))(k-2(l+1)+1)(k-2(l+1)+2)}{(2(j-1)+1)(2(j-1)+2)(2(j-1)+3)(2(l+1)-1)2(l+1)(2(l+1)+1)}]}^{\\frac{1}{2}}\\\\\n",
    "\\end{align}\n",
    "$\n"
   ]
  },
  {
   "cell_type": "code",
   "execution_count": null,
   "metadata": {},
   "outputs": [],
   "source": [
    "def six_j_symbol(l,l_prime,j,j_prime):\n",
    "    s=1/2\n",
    "    if j_prime==j:\n",
    "        k=s+j+l+1\n",
    "        numerator1=2*(k+1)*(k-2*s)*(k-2*j)*(k-2*(l+1)+1)\n",
    "        denominator1=2*j*(2*j+1)*(2*j+2)*(2*(l+1)-1)*2*(l+1)*(2*(l+1)+1)\n",
    "        return ((-1)**(k+1))*(numerator1/denominator1)**0.5\n",
    "    elif j_prime==j+1:\n",
    "        k=s+j+l+2\n",
    "        numerator2=k*(k+1)*(k-2*s-1)*(k-2*s)\n",
    "        denominator2=(2*(j+1)-1)*2*(j+1)*(2*(j+1)+1)*(2*(l+1)-1)*2*(l+1)*(2*(l+1)+1)\n",
    "        return ((-1)**(k+1))*(numerator2/denominator2)**0.5\n",
    "    else:\n",
    "        k=s+j+l\n",
    "        numerator3=(k-2*(j-1)-1)*(k-2*(j-1))*(k-2*(l+1)+1)*(k-2*(l+1)+2)\n",
    "        denominator3=(2*(j-1)+1)*(2*(j-1)+2)*(2*(j-1)+3)*(2*(l+1)-1)*2*(l+1)*(2*(l+1)+1)\n",
    "        return ((-1)**(k+1))*(numerator3/denominator3)**0.5"
   ]
  },
  {
   "cell_type": "markdown",
   "metadata": {},
   "source": [
    "Dipole moment D in terms of S is defined below:\n",
    "\n",
    "$D=S[(2l+1)(2l'+1)(2j+1)(2j'+1)]^{\\frac{1}{2}}{\\begin{pmatrix} l&1&l'\\\\0&0&0 \\end{pmatrix}\\quad}\\int_0^\\infty P_{nl}(r)rP_{n'l'}(r)\\,dr $\n",
    "\n",
    "The oscillator strength in an atom with perturbation of Spin-orbit coupling is \n",
    "\n",
    "\n",
    "$\n",
    "\\begin{align}\n",
    "&f(nljm_{j}\\rightarrow n'l'j'm'_{j})\\\\\n",
    "&=\\frac{2}{3}[E_{n'l'}+\\Delta E'_{so}-(E_{nl}+\\Delta E_{so})]D^{2}\\\\\n",
    "&=\\frac{2}{3}[E_{n'l'}-E_{nl}+\\Delta E'_{so}-\\Delta E_{so}]{S}^{2}(2l+1)(2j+1)(2j'+1) C_{l'}\\mid\\int_0^\\infty P_{nl}(r)rP_{n'l'}(r)\\,dr \\mid^{2} \\\\\n",
    "&=\\frac{2}{3}[E_{n'l'}-E_{nl}+\\Delta E'_{so}-\\Delta E_{so}]{S}^{2}(2j+1)(2j'+1)max(l,l')\\mid\\int_0^\\infty P_{nl}(r)rP_{n'l'}(r)\\,dr \\mid^{2} \\\\\n",
    "\\end{align}\n",
    "$\n",
    "\n",
    "where $ C_{l'}=\\frac{max(l,l')}{2l+1}$"
   ]
  },
  {
   "cell_type": "code",
   "execution_count": null,
   "metadata": {},
   "outputs": [],
   "source": [
    "def os_spin_orbit(fun,N,h,data):\n",
    "    \"\"\"Corrected oscillator strength with the perturbation of \n",
    "    Spin-orbit coupling\n",
    "    data=n,l,j,mj,QD,n_prime,l_prime,j_prime,m_j_prime,QD_prime\"\"\"\n",
    "\n",
    "    mu_j=data[-2]-data[3]\n",
    "    # difference between mj' and mj\n",
    "    vc=vc_coefficient_j(data[2],data[3],data[7],data[8],mu_j)\n",
    "    #vc_coefficient_j(j,mj,j_prime,m_j_prime,mu)\n",
    "    six_j=six_j_symbol(data[1],data[6],data[2],data[-3])\n",
    "    #six_j_symbol(l,l_prime,j,j_prime)\n",
    "    S=((-1)**(data[3]+data[-3]+data[-4]))*vc*six_j\n",
    "    #S=((-1)**(mj+j_prime+l_prime))*vc*six_j\n",
    "    \n",
    "    \n",
    "    integral_squared=numerical_integral(fun,N,h,data[0],data[1],data[4],data[5],data[6],data[-1],False)**2\n",
    "    # numerical_integral(fun,N,h,n,l,QD,n_prime,l_prime,QD_prime,False)\n",
    "   \n",
    "    energy=Energy_diff(data[0],data[4],data[-5],data[-1])+energy_spin_orbit_H(data)\n",
    "    \n",
    "    max_val=np.max([data[1],data[6]])\n",
    "    #max_val=np.max([l,l_prime])\n",
    "    perturbed_os=(2/3)*energy*integral_squared*(vc**2)*max_val*(S**2)*(2*data[2]+1)*(2*data[-3]+1)\n",
    "    \n",
    "    return perturbed_os"
   ]
  },
  {
   "cell_type": "code",
   "execution_count": null,
   "metadata": {},
   "outputs": [],
   "source": [
    "#transition_data_so=n,l,j,mj,QD,n_prime,l_prime,j_prime,m_j_prime,QD_prime\n",
    "transition_data_so=2,1,1,0,0,1,0,0,0,0\n",
    "os_spin_orbit(effective_PE,2000,0.1,transition_data_so)"
   ]
  },
  {
   "cell_type": "code",
   "execution_count": null,
   "metadata": {},
   "outputs": [],
   "source": []
  }
 ],
 "metadata": {
  "kernelspec": {
   "display_name": "Python 3",
   "language": "python",
   "name": "python3"
  },
  "language_info": {
   "codemirror_mode": {
    "name": "ipython",
    "version": 3
   },
   "file_extension": ".py",
   "mimetype": "text/x-python",
   "name": "python",
   "nbconvert_exporter": "python",
   "pygments_lexer": "ipython3",
   "version": "3.8.3"
  }
 },
 "nbformat": 4,
 "nbformat_minor": 2
}
